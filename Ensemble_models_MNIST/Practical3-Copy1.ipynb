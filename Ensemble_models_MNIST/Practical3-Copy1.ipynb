{
 "cells": [
  {
   "cell_type": "markdown",
   "metadata": {},
   "source": [
    "<h1>Using Voting Classifiers to recognise handwritten digits in the MNIST dataset</h1>"
   ]
  },
  {
   "cell_type": "markdown",
   "metadata": {},
   "source": [
    "In this notebook we will train an ensemble classifier to recognise handwritten digits and examine the various ways of increasing the accuracy of said classifier through optimisation techniques."
   ]
  },
  {
   "cell_type": "code",
   "execution_count": 24,
   "metadata": {},
   "outputs": [],
   "source": [
    "# Common imports\n",
    "import numpy as np\n",
    "import os\n",
    "\n",
    "# to make this notebook's output stable across runs\n",
    "np.random.seed(42)\n",
    "\n",
    "# To plot pretty figures\n",
    "%matplotlib inline\n",
    "import matplotlib\n",
    "import matplotlib.pyplot as plt\n",
    "plt.rcParams['axes.labelsize'] = 14\n",
    "plt.rcParams['xtick.labelsize'] = 12\n",
    "plt.rcParams['ytick.labelsize'] = 12"
   ]
  },
  {
   "cell_type": "markdown",
   "metadata": {},
   "source": [
    "# Voting classifiers "
   ]
  },
  {
   "cell_type": "markdown",
   "metadata": {},
   "source": [
    "Firstly loading the digits dataset and splitting it into training and test data"
   ]
  },
  {
   "cell_type": "code",
   "execution_count": 25,
   "metadata": {},
   "outputs": [
    {
     "name": "stdout",
     "output_type": "stream",
     "text": [
      "StratifiedShuffleSplit(n_splits=1, random_state=42, test_size=0.2,\n",
      "            train_size=None)\n",
      "TRAIN: 1437 TEST: 360\n",
      "(1437, 64) (1437,) (360, 64) (360,)\n"
     ]
    }
   ],
   "source": [
    "from sklearn.model_selection import StratifiedShuffleSplit\n",
    "from sklearn import datasets\n",
    "digits = datasets.load_digits()\n",
    "\n",
    "X, y = digits[\"data\"], digits[\"target\"]\n",
    "split = StratifiedShuffleSplit(n_splits=1, test_size=0.2, random_state=42)\n",
    "split.get_n_splits(X, y)\n",
    "print(split)       \n",
    "\n",
    "for train_index, test_index in split.split(X, y):\n",
    "    print(\"TRAIN:\", len(train_index), \"TEST:\", len(test_index))\n",
    "    X_train, X_test = X[train_index], X[test_index]\n",
    "    y_train, y_test = y[train_index], y[test_index]\n",
    "\n",
    "print(X_train.shape, y_train.shape, X_test.shape, y_test.shape)"
   ]
  },
  {
   "cell_type": "markdown",
   "metadata": {},
   "source": [
    "Now training lots of different single classifiers to inspect accuracy scores, in order to choose which ones are used in our ensemble."
   ]
  },
  {
   "cell_type": "code",
   "execution_count": 26,
   "metadata": {},
   "outputs": [],
   "source": [
    "from sklearn.ensemble import VotingClassifier\n",
    "from sklearn.ensemble import RandomForestClassifier\n",
    "from sklearn.linear_model import LogisticRegression\n",
    "from sklearn.naive_bayes import GaussianNB\n",
    "from sklearn.naive_bayes import MultinomialNB\n",
    "from sklearn.neighbors import KNeighborsClassifier\n",
    "from sklearn.tree import DecisionTreeClassifier\n",
    "\n",
    "log_clf = LogisticRegression(random_state=42, max_iter=100000)\n",
    "rnd_clf = RandomForestClassifier(random_state=42)\n",
    "gnb_clf = GaussianNB() \n",
    "mnb_clf = MultinomialNB()\n",
    "knn_clf = KNeighborsClassifier()\n",
    "dtc_clf = DecisionTreeClassifier()"
   ]
  },
  {
   "cell_type": "markdown",
   "metadata": {},
   "source": [
    "Let's inspect the accuracies of the above classifiers to see which ones are performing poorly"
   ]
  },
  {
   "cell_type": "code",
   "execution_count": 27,
   "metadata": {},
   "outputs": [
    {
     "name": "stdout",
     "output_type": "stream",
     "text": [
      "KNeighborsClassifier 0.9833333333333333\n",
      "LogisticRegression 0.9611111111111111\n",
      "RandomForestClassifier 0.9611111111111111\n",
      "MultinomialNB 0.8888888888888888\n",
      "DecisionTreeClassifier 0.825\n",
      "GaussianNB 0.8111111111111111\n"
     ]
    }
   ],
   "source": [
    "from sklearn.metrics import accuracy_score\n",
    "\n",
    "for clf in (knn_clf, log_clf, rnd_clf, mnb_clf, dtc_clf, gnb_clf):\n",
    "    clf.fit(X_train, y_train)\n",
    "    y_pred = clf.predict(X_test)\n",
    "    print(clf.__class__.__name__, accuracy_score(y_test, y_pred))"
   ]
  },
  {
   "cell_type": "markdown",
   "metadata": {},
   "source": [
    "Now taking the worst 3 predictors; *GuassianNaiveBayes, MultinomialNaiveBayes, and DecisionTreeClassifier* and using them in an ensemble. Firstly inspecting the correlation between the 3 classifiers"
   ]
  },
  {
   "cell_type": "code",
   "execution_count": 28,
   "metadata": {},
   "outputs": [
    {
     "data": {
      "text/html": [
       "<div>\n",
       "<style scoped>\n",
       "    .dataframe tbody tr th:only-of-type {\n",
       "        vertical-align: middle;\n",
       "    }\n",
       "\n",
       "    .dataframe tbody tr th {\n",
       "        vertical-align: top;\n",
       "    }\n",
       "\n",
       "    .dataframe thead th {\n",
       "        text-align: right;\n",
       "    }\n",
       "</style>\n",
       "<table border=\"1\" class=\"dataframe\">\n",
       "  <thead>\n",
       "    <tr style=\"text-align: right;\">\n",
       "      <th></th>\n",
       "      <th>dtc</th>\n",
       "      <th>gnb</th>\n",
       "      <th>mnb</th>\n",
       "    </tr>\n",
       "  </thead>\n",
       "  <tbody>\n",
       "    <tr>\n",
       "      <th>dtc</th>\n",
       "      <td>1.000000</td>\n",
       "      <td>0.675848</td>\n",
       "      <td>0.773560</td>\n",
       "    </tr>\n",
       "    <tr>\n",
       "      <th>gnb</th>\n",
       "      <td>0.675848</td>\n",
       "      <td>1.000000</td>\n",
       "      <td>0.736931</td>\n",
       "    </tr>\n",
       "    <tr>\n",
       "      <th>mnb</th>\n",
       "      <td>0.773560</td>\n",
       "      <td>0.736931</td>\n",
       "      <td>1.000000</td>\n",
       "    </tr>\n",
       "  </tbody>\n",
       "</table>\n",
       "</div>"
      ],
      "text/plain": [
       "          dtc       gnb       mnb\n",
       "dtc  1.000000  0.675848  0.773560\n",
       "gnb  0.675848  1.000000  0.736931\n",
       "mnb  0.773560  0.736931  1.000000"
      ]
     },
     "execution_count": 28,
     "metadata": {},
     "output_type": "execute_result"
    }
   ],
   "source": [
    "import pandas as pd\n",
    "\n",
    "def get_predictions(clf):\n",
    "    clf.fit(X_train, y_train)\n",
    "    return clf.predict(X_test)\n",
    "\n",
    "preds = {'dtc': get_predictions(dtc_clf), \n",
    "        'gnb': get_predictions(gnb_clf), \n",
    "        'mnb': get_predictions(mnb_clf)}\n",
    "df = pd.DataFrame(data=preds)\n",
    "df[:100]\n",
    "df.corr()"
   ]
  },
  {
   "cell_type": "markdown",
   "metadata": {},
   "source": [
    "There is low enough correlation between the classifiers that there may be a performance gain from combining. Let's now combine them into an ensemble classifier"
   ]
  },
  {
   "cell_type": "code",
   "execution_count": 29,
   "metadata": {},
   "outputs": [
    {
     "data": {
      "text/plain": [
       "VotingClassifier(estimators=[('dtc', DecisionTreeClassifier()),\n",
       "                             ('gnb', GaussianNB()), ('mnb', MultinomialNB())])"
      ]
     },
     "execution_count": 29,
     "metadata": {},
     "output_type": "execute_result"
    }
   ],
   "source": [
    "voting_clf = VotingClassifier(\n",
    "    estimators=[('dtc', dtc_clf), ('gnb', gnb_clf), ('mnb', mnb_clf)],\n",
    "    voting='hard')\n",
    "voting_clf.fit(X_train, y_train)"
   ]
  },
  {
   "cell_type": "markdown",
   "metadata": {},
   "source": [
    "Evaluating the voting classifier against the best solo classifier in the ensemble"
   ]
  },
  {
   "cell_type": "code",
   "execution_count": 30,
   "metadata": {},
   "outputs": [
    {
     "name": "stdout",
     "output_type": "stream",
     "text": [
      "Best solo classifier:  0.8888888888888888\n",
      "Voting classifier:  0.9083333333333333\n"
     ]
    }
   ],
   "source": [
    "def highest_accuracy(voting_classifier):\n",
    "    scores = []\n",
    "    for clf in voting_classifier.estimators:\n",
    "        y_pred = clf[1].predict(X_test)\n",
    "        scores.append(accuracy_score(y_test, y_pred))\n",
    "    return max(scores)\n",
    "\n",
    "def evaluate_voting_clf(voting_classifier):\n",
    "    score = accuracy_score(y_test, voting_classifier.predict(X_test))\n",
    "    print(\"Best solo classifier: \", highest_accuracy(voting_classifier))\n",
    "    print(\"Voting classifier: \", score)\n",
    "    return score\n",
    "\n",
    "voting_worst_clf = evaluate_voting_clf(voting_clf)"
   ]
  },
  {
   "cell_type": "markdown",
   "metadata": {},
   "source": [
    "As we can see there is a performance gain from combining the worst 3 classifiers over the best individual of said 3.\n",
    "For the best performance possible we will now combine the top 3 classifiers *(KNearestNeighbour, RandomForestRegressor, LogisticRegression)* into an ensemble voting model."
   ]
  },
  {
   "cell_type": "code",
   "execution_count": 31,
   "metadata": {},
   "outputs": [
    {
     "data": {
      "text/html": [
       "<div>\n",
       "<style scoped>\n",
       "    .dataframe tbody tr th:only-of-type {\n",
       "        vertical-align: middle;\n",
       "    }\n",
       "\n",
       "    .dataframe tbody tr th {\n",
       "        vertical-align: top;\n",
       "    }\n",
       "\n",
       "    .dataframe thead th {\n",
       "        text-align: right;\n",
       "    }\n",
       "</style>\n",
       "<table border=\"1\" class=\"dataframe\">\n",
       "  <thead>\n",
       "    <tr style=\"text-align: right;\">\n",
       "      <th></th>\n",
       "      <th>knn</th>\n",
       "      <th>rnd</th>\n",
       "      <th>log</th>\n",
       "    </tr>\n",
       "  </thead>\n",
       "  <tbody>\n",
       "    <tr>\n",
       "      <th>knn</th>\n",
       "      <td>1.000000</td>\n",
       "      <td>0.969924</td>\n",
       "      <td>0.958195</td>\n",
       "    </tr>\n",
       "    <tr>\n",
       "      <th>rnd</th>\n",
       "      <td>0.969924</td>\n",
       "      <td>1.000000</td>\n",
       "      <td>0.942779</td>\n",
       "    </tr>\n",
       "    <tr>\n",
       "      <th>log</th>\n",
       "      <td>0.958195</td>\n",
       "      <td>0.942779</td>\n",
       "      <td>1.000000</td>\n",
       "    </tr>\n",
       "  </tbody>\n",
       "</table>\n",
       "</div>"
      ],
      "text/plain": [
       "          knn       rnd       log\n",
       "knn  1.000000  0.969924  0.958195\n",
       "rnd  0.969924  1.000000  0.942779\n",
       "log  0.958195  0.942779  1.000000"
      ]
     },
     "execution_count": 31,
     "metadata": {},
     "output_type": "execute_result"
    }
   ],
   "source": [
    "preds = {'knn': get_predictions(knn_clf), \n",
    "         'rnd': get_predictions(rnd_clf), \n",
    "        'log': get_predictions(log_clf)}\n",
    "df = pd.DataFrame(data=preds)\n",
    "df[:100]\n",
    "df.corr()"
   ]
  },
  {
   "cell_type": "markdown",
   "metadata": {},
   "source": [
    "There is high correlation between all of the values hence there may not be massive gain from combining them into a voting classifier"
   ]
  },
  {
   "cell_type": "code",
   "execution_count": 32,
   "metadata": {},
   "outputs": [
    {
     "name": "stdout",
     "output_type": "stream",
     "text": [
      "Best solo classifier:  0.9833333333333333\n",
      "Voting classifier:  0.9805555555555555\n"
     ]
    }
   ],
   "source": [
    "voting_clf = VotingClassifier(\n",
    "    estimators=[ ('rnd', rnd_clf), ('knn', knn_clf), ('lof', log_clf) ],\n",
    "    voting='hard')\n",
    "voting_clf.fit(X_train, y_train)\n",
    "voting_best_clf = evaluate_voting_clf(voting_clf)"
   ]
  },
  {
   "cell_type": "markdown",
   "metadata": {},
   "source": [
    "The KNearestNeighbour classifier barely outperforms the ensemble classifier, however the ensemble classifier may generalise better as it benefits from the strengths of all 3 models."
   ]
  },
  {
   "cell_type": "markdown",
   "metadata": {},
   "source": [
    "# AdaBoost"
   ]
  },
  {
   "cell_type": "markdown",
   "metadata": {},
   "source": [
    "Now trying AdaBoost with decision tree stumps (max_depth=1)"
   ]
  },
  {
   "cell_type": "code",
   "execution_count": 33,
   "metadata": {},
   "outputs": [
    {
     "data": {
      "text/plain": [
       "AdaBoostClassifier(base_estimator=DecisionTreeClassifier(max_depth=1),\n",
       "                   learning_rate=0.5, n_estimators=200, random_state=42)"
      ]
     },
     "execution_count": 33,
     "metadata": {},
     "output_type": "execute_result"
    }
   ],
   "source": [
    "from sklearn.ensemble import AdaBoostClassifier\n",
    "\n",
    "ada_clf = AdaBoostClassifier(\n",
    "    DecisionTreeClassifier(max_depth=1), n_estimators=200,\n",
    "    algorithm=\"SAMME.R\", learning_rate=0.5, random_state=42)\n",
    "ada_clf.fit(X_train, y_train)"
   ]
  },
  {
   "cell_type": "code",
   "execution_count": 34,
   "metadata": {},
   "outputs": [
    {
     "data": {
      "text/plain": [
       "0.8416666666666667"
      ]
     },
     "execution_count": 34,
     "metadata": {},
     "output_type": "execute_result"
    }
   ],
   "source": [
    "ada_stump = accuracy_score(y_test, ada_clf.predict(X_test))\n",
    "ada_stump"
   ]
  },
  {
   "cell_type": "markdown",
   "metadata": {},
   "source": [
    "AdaBoost with stumps has an OK accuracy, what about if we put this in the voting classifier with the other worst ones?"
   ]
  },
  {
   "cell_type": "code",
   "execution_count": 35,
   "metadata": {},
   "outputs": [
    {
     "data": {
      "text/plain": [
       "VotingClassifier(estimators=[('dtc', DecisionTreeClassifier()),\n",
       "                             ('gnb', GaussianNB()),\n",
       "                             ('ada',\n",
       "                              AdaBoostClassifier(base_estimator=DecisionTreeClassifier(max_depth=1),\n",
       "                                                 learning_rate=0.5,\n",
       "                                                 n_estimators=200,\n",
       "                                                 random_state=42))])"
      ]
     },
     "execution_count": 35,
     "metadata": {},
     "output_type": "execute_result"
    }
   ],
   "source": [
    "voting_clf = VotingClassifier(\n",
    "    estimators=[('dtc', dtc_clf), ('gnb', gnb_clf), ('ada', ada_clf)],\n",
    "    voting='hard')\n",
    "voting_clf.fit(X_train, y_train)"
   ]
  },
  {
   "cell_type": "code",
   "execution_count": 36,
   "metadata": {},
   "outputs": [
    {
     "name": "stdout",
     "output_type": "stream",
     "text": [
      "Best solo classifier:  0.8416666666666667\n",
      "Voting classifier:  0.8805555555555555\n"
     ]
    }
   ],
   "source": [
    "voting_ada_clf = evaluate_voting_clf(voting_clf)"
   ]
  },
  {
   "cell_type": "markdown",
   "metadata": {},
   "source": [
    "A notable boost in performance by putting it into the ensemble\n",
    "How about AdaBoost with normal decision trees (max_depth=5):"
   ]
  },
  {
   "cell_type": "code",
   "execution_count": 37,
   "metadata": {},
   "outputs": [
    {
     "data": {
      "text/plain": [
       "AdaBoostClassifier(base_estimator=DecisionTreeClassifier(max_depth=5),\n",
       "                   learning_rate=0.5, n_estimators=200, random_state=42)"
      ]
     },
     "execution_count": 37,
     "metadata": {},
     "output_type": "execute_result"
    }
   ],
   "source": [
    "ada_clf = AdaBoostClassifier(\n",
    "    DecisionTreeClassifier(max_depth=5), n_estimators=200,\n",
    "    algorithm=\"SAMME.R\", learning_rate=0.5, random_state=42)\n",
    "ada_clf.fit(X_train, y_train)"
   ]
  },
  {
   "cell_type": "code",
   "execution_count": 38,
   "metadata": {},
   "outputs": [
    {
     "data": {
      "text/plain": [
       "0.9694444444444444"
      ]
     },
     "execution_count": 38,
     "metadata": {},
     "output_type": "execute_result"
    }
   ],
   "source": [
    "ada_clf_score = accuracy_score(y_test, ada_clf.predict(X_test))\n",
    "ada_clf_score"
   ]
  },
  {
   "cell_type": "markdown",
   "metadata": {},
   "source": [
    "A very good performance of AdaBoost with learning rate at 0.5 using normal decision trees (depth of 5)"
   ]
  },
  {
   "cell_type": "markdown",
   "metadata": {},
   "source": [
    "Let's inspect the feature importances of the AdaBoost classifier"
   ]
  },
  {
   "cell_type": "code",
   "execution_count": 39,
   "metadata": {},
   "outputs": [],
   "source": [
    "def plot_digit(data):\n",
    "    image = data.reshape(8, 8)\n",
    "    plt.imshow(image, cmap = matplotlib.cm.hot,\n",
    "               interpolation=\"nearest\")\n",
    "    plt.axis(\"off\")"
   ]
  },
  {
   "cell_type": "code",
   "execution_count": 40,
   "metadata": {},
   "outputs": [
    {
     "name": "stderr",
     "output_type": "stream",
     "text": [
      "C:\\Users\\adame\\anaconda3\\lib\\site-packages\\sklearn\\tree\\_classes.py:590: RuntimeWarning: invalid value encountered in true_divide\n",
      "  return self.tree_.compute_feature_importances()\n"
     ]
    },
    {
     "data": {
      "image/png": "[encoded data removed]",
      "text/plain": [
       "<Figure size 432x288 with 2 Axes>"
      ]
     },
     "metadata": {
      "needs_background": "light"
     },
     "output_type": "display_data"
    }
   ],
   "source": [
    "importances = ada_clf.feature_importances_\n",
    "for i in range(len(importances)): #Remove NaN values\n",
    "    if importances[i] != importances[i]:\n",
    "        importances[i] = 0.0\n",
    "plot_digit(importances)\n",
    "#print(importances)\n",
    "cbar = plt.colorbar(ticks=[importances.min(), importances.max()])\n",
    "cbar.ax.set_yticklabels(['Not important', 'Very important'])\n",
    "plt.title(\"Feautre importances of AdaBoost classifier for digits dataset\")\n",
    "plt.show()"
   ]
  },
  {
   "cell_type": "markdown",
   "metadata": {},
   "source": [
    "Now plotting all of our classifiers against one other for comparison"
   ]
  },
  {
   "cell_type": "code",
   "execution_count": 48,
   "metadata": {},
   "outputs": [
    {
     "data": {
      "image/png": "[encoded data removed]",
      "text/plain": [
       "<Figure size 432x288 with 1 Axes>"
      ]
     },
     "metadata": {
      "needs_background": "light"
     },
     "output_type": "display_data"
    }
   ],
   "source": [
    "import matplotlib.pyplot as plt\n",
    "fig = plt.figure()\n",
    "plot_data = [voting_worst_clf, voting_best_clf, ada_stump, voting_ada_clf, ada_clf_score]\n",
    "mean = sum(plot_data) / len(plot_data)\n",
    "ax = fig.add_axes([1, 1, 1.5 ,1.5]) #[left, bottom, width, height]\n",
    "classifiers = ['Voting w/ worst \\nclfs', 'Voting w/ best \\nclfs', 'AdaBoost w/\\nstumps', 'Voting w/ AdaBoost', 'AdaBoost w/ trees']\n",
    "ax.axhline(mean, color='red', linewidth=2,label=\"mean\")\n",
    "\n",
    "ax.bar(classifiers, plot_data,  color='blue', edgecolor = \"black\")\n",
    "plt.ylim(0.8, 1.0)\n",
    "plt.ylabel(\"Accuracy score\")\n",
    "plt.xlabel(\"Classifier\")\n",
    "plt.title(\"Classifiers and their accuracies\")\n",
    "plt.show()"
   ]
  },
  {
   "cell_type": "markdown",
   "metadata": {},
   "source": [
    "Clearly the ensemble of our best classiffiers is the highest performer. AdaBoost with stumps significantly underperforms against the average, however AdaBoost with decision trees significantly overperforms against the average. Since our ensemble of the best solo performers reached a very similar accuray to the highest solo model, it would be beneficial to use an ensemble model in practice due to the better generalisation across datasets. "
   ]
  }
 ],
 "metadata": {
  "kernelspec": {
   "display_name": "Python 3",
   "language": "python",
   "name": "python3"
  },
  "language_info": {
   "codemirror_mode": {
    "name": "ipython",
    "version": 3
   },
   "file_extension": ".py",
   "mimetype": "text/x-python",
   "name": "python",
   "nbconvert_exporter": "python",
   "pygments_lexer": "ipython3",
   "version": "3.8.3"
  },
  "nav_menu": {
   "height": "252px",
   "width": "333px"
  },
  "toc": {
   "navigate_menu": true,
   "number_sections": true,
   "sideBar": true,
   "threshold": 6,
   "toc_cell": false,
   "toc_section_display": "block",
   "toc_window_display": false
  }
 },
 "nbformat": 4,
 "nbformat_minor": 4
}
