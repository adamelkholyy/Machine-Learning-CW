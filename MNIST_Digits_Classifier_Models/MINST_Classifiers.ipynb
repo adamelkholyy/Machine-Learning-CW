{
 "cells": [
  {
   "cell_type": "markdown",
   "metadata": {},
   "source": [
    "<h1>Building classifier models for the MNIST dataset</h1>"
   ]
  },
  {
   "cell_type": "markdown",
   "metadata": {},
   "source": [
    "In this notebook we will create multiple models to classify digits from the handwritten MNIST digit dataset."
   ]
  },
  {
   "cell_type": "code",
   "execution_count": 1,
   "metadata": {},
   "outputs": [
    {
     "data": {
      "text/plain": [
       "['data', 'target', 'frame', 'feature_names', 'target_names', 'images', 'DESCR']"
      ]
     },
     "execution_count": 1,
     "metadata": {},
     "output_type": "execute_result"
    }
   ],
   "source": [
    "from sklearn import datasets\n",
    "digits = datasets.load_digits()\n",
    "list(digits.keys())"
   ]
  },
  {
   "cell_type": "markdown",
   "metadata": {},
   "source": [
    "Let's inspect some of the dataset first."
   ]
  },
  {
   "cell_type": "code",
   "execution_count": 50,
   "metadata": {},
   "outputs": [
    {
     "data": {
      "text/plain": [
       "(1797, 64)"
      ]
     },
     "execution_count": 50,
     "metadata": {},
     "output_type": "execute_result"
    }
   ],
   "source": [
    "X, y = digits[\"data\"], digits[\"target\"]\n",
    "X.shape"
   ]
  },
  {
   "cell_type": "code",
   "execution_count": 51,
   "metadata": {},
   "outputs": [
    {
     "data": {
      "text/plain": [
       "(1797,)"
      ]
     },
     "execution_count": 51,
     "metadata": {},
     "output_type": "execute_result"
    }
   ],
   "source": [
    "y.shape"
   ]
  },
  {
   "cell_type": "code",
   "execution_count": 52,
   "metadata": {},
   "outputs": [],
   "source": [
    "%matplotlib inline \n",
    "#so that the plot will be displayed in the notebook\n",
    "import numpy as np\n",
    "np.random.seed(42)\n",
    "\n",
    "import matplotlib\n",
    "from matplotlib import pyplot as plt"
   ]
  },
  {
   "cell_type": "code",
   "execution_count": 53,
   "metadata": {},
   "outputs": [
    {
     "data": {
      "image/png": "[encoded data removed]",
      "text/plain": [
       "<Figure size 432x288 with 1 Axes>"
      ]
     },
     "metadata": {
      "needs_background": "light"
     },
     "output_type": "display_data"
    }
   ],
   "source": [
    "some_digit = X[3]\n",
    "some_digit_image = some_digit.reshape(8, 8)\n",
    "\n",
    "plt.imshow(some_digit_image, cmap=matplotlib.cm.binary, interpolation=\"nearest\")\n",
    "plt.axis(\"off\")\n",
    "plt.show()"
   ]
  },
  {
   "cell_type": "code",
   "execution_count": 8,
   "metadata": {},
   "outputs": [
    {
     "data": {
      "text/plain": [
       "3"
      ]
     },
     "execution_count": 8,
     "metadata": {},
     "output_type": "execute_result"
    }
   ],
   "source": [
    "y[3]"
   ]
  },
  {
   "cell_type": "markdown",
   "metadata": {},
   "source": [
    "<h2>Preprocessing and training binary classifiers</h2>"
   ]
  },
  {
   "cell_type": "markdown",
   "metadata": {},
   "source": [
    "Firstly splitting the data into the training set (X) and test set (y) using StratifiedShuffleSplit in order go get stratified sampling of the digit distribution."
   ]
  },
  {
   "cell_type": "code",
   "execution_count": 10,
   "metadata": {},
   "outputs": [
    {
     "name": "stdout",
     "output_type": "stream",
     "text": [
      "StratifiedShuffleSplit(n_splits=1, random_state=50, test_size=0.2,\n",
      "            train_size=None)\n",
      "TRAIN: 1437 TEST: 360\n",
      "(1437, 64) (1437,) (360, 64) (360,)\n"
     ]
    }
   ],
   "source": [
    "#Split into training and test data\n",
    "from sklearn.model_selection import StratifiedShuffleSplit\n",
    "\n",
    "split = StratifiedShuffleSplit(n_splits=1, test_size=0.2, random_state=50)\n",
    "split.get_n_splits(X, y)\n",
    "print(split)       \n",
    "\n",
    "for train_index, test_index in split.split(X, y):\n",
    "    print(\"TRAIN:\", len(train_index), \"TEST:\", len(test_index))\n",
    "    X_train, X_test = X[train_index], X[test_index]\n",
    "    y_train, y_test = y[train_index], y[test_index]\n",
    "\n",
    "print(X_train.shape, y_train.shape, X_test.shape, y_test.shape)"
   ]
  },
  {
   "cell_type": "markdown",
   "metadata": {},
   "source": [
    "Now onto binary classification, for this we are going to determine whether a digit is or is not a specific chosen digit. For these examples 0 will be used. The training data must therefore be modified to show 0s or not 0s."
   ]
  },
  {
   "cell_type": "code",
   "execution_count": 11,
   "metadata": {},
   "outputs": [
    {
     "data": {
      "text/plain": [
       "array([ 0.,  0.,  2., 15., 13.,  2.,  0.,  0.,  0.,  0.,  8., 16., 15.,\n",
       "       12.,  0.,  0.,  0.,  0.,  9., 14.,  1., 15.,  5.,  0.,  0.,  0.,\n",
       "       14., 13.,  0., 11.,  9.,  0.,  0.,  3., 16., 11.,  0., 12.,  9.,\n",
       "        0.,  0.,  2., 16.,  3.,  2., 16.,  6.,  0.,  0.,  1., 13., 11.,\n",
       "       15., 14.,  0.,  0.,  0.,  0.,  4., 16., 15.,  5.,  0.,  0.])"
      ]
     },
     "execution_count": 11,
     "metadata": {},
     "output_type": "execute_result"
    }
   ],
   "source": [
    "test_digit = 0\n",
    "y_train_digit = (y_train == test_digit) # will return True when the label is 9\n",
    "y_test_digit = (y_test == test_digit)\n",
    "zero_example = X_test[5] #a known digit 0 in the test set\n",
    "six_example = X_test[4] \n",
    "seven_example = X_test[0] \n",
    "zero_example"
   ]
  },
  {
   "cell_type": "markdown",
   "metadata": {},
   "source": [
    "Then training a perceptron on the modified training data"
   ]
  },
  {
   "cell_type": "code",
   "execution_count": 12,
   "metadata": {},
   "outputs": [
    {
     "data": {
      "text/plain": [
       "SGDClassifier(eta0=1, learning_rate='constant', loss='perceptron', max_iter=5,\n",
       "              penalty=None, random_state=50, tol=None)"
      ]
     },
     "execution_count": 12,
     "metadata": {},
     "output_type": "execute_result"
    }
   ],
   "source": [
    "import pandas as pd\n",
    "from sklearn.linear_model import SGDClassifier\n",
    "\n",
    "sgd = SGDClassifier(max_iter=5, tol=None, random_state=50,\n",
    "                   loss=\"perceptron\", eta0=1, learning_rate=\"constant\", penalty=None)\n",
    "sgd.fit(X_train, y_train_digit)\n"
   ]
  },
  {
   "cell_type": "markdown",
   "metadata": {},
   "source": [
    "Now analysing the predictions made by the model using a table of results"
   ]
  },
  {
   "cell_type": "code",
   "execution_count": 13,
   "metadata": {},
   "outputs": [],
   "source": [
    "#Function to highlight cells green or red depending on test results\n",
    "def highlight_results(s):\n",
    "    if s.Prediction == s.Actual:\n",
    "        return ['background-color: lightgreen']*3\n",
    "    else:\n",
    "        return ['background-color: lightcoral']*3"
   ]
  },
  {
   "cell_type": "code",
   "execution_count": 14,
   "metadata": {},
   "outputs": [
    {
     "data": {
      "text/html": [
       "<style  type=\"text/css\" >\n",
       "    #T_593c99c3_35ea_11ee_94bd_40ec99cc0956row0_col0 {\n",
       "            background-color:  lightgreen;\n",
       "        }    #T_593c99c3_35ea_11ee_94bd_40ec99cc0956row0_col1 {\n",
       "            background-color:  lightgreen;\n",
       "        }    #T_593c99c3_35ea_11ee_94bd_40ec99cc0956row0_col2 {\n",
       "            background-color:  lightgreen;\n",
       "        }    #T_593c99c3_35ea_11ee_94bd_40ec99cc0956row1_col0 {\n",
       "            background-color:  lightgreen;\n",
       "        }    #T_593c99c3_35ea_11ee_94bd_40ec99cc0956row1_col1 {\n",
       "            background-color:  lightgreen;\n",
       "        }    #T_593c99c3_35ea_11ee_94bd_40ec99cc0956row1_col2 {\n",
       "            background-color:  lightgreen;\n",
       "        }    #T_593c99c3_35ea_11ee_94bd_40ec99cc0956row2_col0 {\n",
       "            background-color:  lightgreen;\n",
       "        }    #T_593c99c3_35ea_11ee_94bd_40ec99cc0956row2_col1 {\n",
       "            background-color:  lightgreen;\n",
       "        }    #T_593c99c3_35ea_11ee_94bd_40ec99cc0956row2_col2 {\n",
       "            background-color:  lightgreen;\n",
       "        }    #T_593c99c3_35ea_11ee_94bd_40ec99cc0956row3_col0 {\n",
       "            background-color:  lightgreen;\n",
       "        }    #T_593c99c3_35ea_11ee_94bd_40ec99cc0956row3_col1 {\n",
       "            background-color:  lightgreen;\n",
       "        }    #T_593c99c3_35ea_11ee_94bd_40ec99cc0956row3_col2 {\n",
       "            background-color:  lightgreen;\n",
       "        }    #T_593c99c3_35ea_11ee_94bd_40ec99cc0956row4_col0 {\n",
       "            background-color:  lightgreen;\n",
       "        }    #T_593c99c3_35ea_11ee_94bd_40ec99cc0956row4_col1 {\n",
       "            background-color:  lightgreen;\n",
       "        }    #T_593c99c3_35ea_11ee_94bd_40ec99cc0956row4_col2 {\n",
       "            background-color:  lightgreen;\n",
       "        }    #T_593c99c3_35ea_11ee_94bd_40ec99cc0956row5_col0 {\n",
       "            background-color:  lightgreen;\n",
       "        }    #T_593c99c3_35ea_11ee_94bd_40ec99cc0956row5_col1 {\n",
       "            background-color:  lightgreen;\n",
       "        }    #T_593c99c3_35ea_11ee_94bd_40ec99cc0956row5_col2 {\n",
       "            background-color:  lightgreen;\n",
       "        }</style><table id=\"T_593c99c3_35ea_11ee_94bd_40ec99cc0956\" ><thead>    <tr>        <th class=\"col_heading level0 col0\" >Digit</th>        <th class=\"col_heading level0 col1\" >Prediction</th>        <th class=\"col_heading level0 col2\" >Actual</th>    </tr></thead><tbody>\n",
       "                <tr>\n",
       "                                <td id=\"T_593c99c3_35ea_11ee_94bd_40ec99cc0956row0_col0\" class=\"data row0 col0\" >7</td>\n",
       "                        <td id=\"T_593c99c3_35ea_11ee_94bd_40ec99cc0956row0_col1\" class=\"data row0 col1\" >False</td>\n",
       "                        <td id=\"T_593c99c3_35ea_11ee_94bd_40ec99cc0956row0_col2\" class=\"data row0 col2\" >False</td>\n",
       "            </tr>\n",
       "            <tr>\n",
       "                                <td id=\"T_593c99c3_35ea_11ee_94bd_40ec99cc0956row1_col0\" class=\"data row1 col0\" >3</td>\n",
       "                        <td id=\"T_593c99c3_35ea_11ee_94bd_40ec99cc0956row1_col1\" class=\"data row1 col1\" >False</td>\n",
       "                        <td id=\"T_593c99c3_35ea_11ee_94bd_40ec99cc0956row1_col2\" class=\"data row1 col2\" >False</td>\n",
       "            </tr>\n",
       "            <tr>\n",
       "                                <td id=\"T_593c99c3_35ea_11ee_94bd_40ec99cc0956row2_col0\" class=\"data row2 col0\" >3</td>\n",
       "                        <td id=\"T_593c99c3_35ea_11ee_94bd_40ec99cc0956row2_col1\" class=\"data row2 col1\" >False</td>\n",
       "                        <td id=\"T_593c99c3_35ea_11ee_94bd_40ec99cc0956row2_col2\" class=\"data row2 col2\" >False</td>\n",
       "            </tr>\n",
       "            <tr>\n",
       "                                <td id=\"T_593c99c3_35ea_11ee_94bd_40ec99cc0956row3_col0\" class=\"data row3 col0\" >3</td>\n",
       "                        <td id=\"T_593c99c3_35ea_11ee_94bd_40ec99cc0956row3_col1\" class=\"data row3 col1\" >False</td>\n",
       "                        <td id=\"T_593c99c3_35ea_11ee_94bd_40ec99cc0956row3_col2\" class=\"data row3 col2\" >False</td>\n",
       "            </tr>\n",
       "            <tr>\n",
       "                                <td id=\"T_593c99c3_35ea_11ee_94bd_40ec99cc0956row4_col0\" class=\"data row4 col0\" >6</td>\n",
       "                        <td id=\"T_593c99c3_35ea_11ee_94bd_40ec99cc0956row4_col1\" class=\"data row4 col1\" >False</td>\n",
       "                        <td id=\"T_593c99c3_35ea_11ee_94bd_40ec99cc0956row4_col2\" class=\"data row4 col2\" >False</td>\n",
       "            </tr>\n",
       "            <tr>\n",
       "                                <td id=\"T_593c99c3_35ea_11ee_94bd_40ec99cc0956row5_col0\" class=\"data row5 col0\" >0</td>\n",
       "                        <td id=\"T_593c99c3_35ea_11ee_94bd_40ec99cc0956row5_col1\" class=\"data row5 col1\" >True</td>\n",
       "                        <td id=\"T_593c99c3_35ea_11ee_94bd_40ec99cc0956row5_col2\" class=\"data row5 col2\" >True</td>\n",
       "            </tr>\n",
       "    </tbody></table>"
      ],
      "text/plain": [
       "<pandas.io.formats.style.Styler at 0x27becca7ac0>"
      ]
     },
     "execution_count": 14,
     "metadata": {},
     "output_type": "execute_result"
    }
   ],
   "source": [
    "def draw_results_table(model, num_tests):\n",
    "    predictions = []\n",
    "    answers = []\n",
    "    index = []\n",
    "\n",
    "    #Gets results from the test data\n",
    "    for i in range(num_tests):\n",
    "        p = model.predict([X_test[i]])\n",
    "        a = y_test_digit[i]\n",
    "        predictions.append(p[0])\n",
    "        answers.append(a)\n",
    "        index.append(y_test[i])\n",
    "\n",
    "    #Pandas dataframe to display the data\n",
    "    df = pd.DataFrame({\n",
    "    \"Digit\": index,\n",
    "    \"Prediction\": predictions,\n",
    "    \"Actual\": answers,\n",
    "    })\n",
    "    pd.set_option(\"display.max_rows\", None, \"display.max_columns\", None)\n",
    "    \n",
    "    return df.style.hide_index().apply(highlight_results, axis=1)\n",
    "    \n",
    "draw_results_table(sgd, 6)"
   ]
  },
  {
   "cell_type": "markdown",
   "metadata": {},
   "source": [
    "An initial look at the results show the perceptron model can predict 0s and not 0s as shown above.\n",
    "Now moving on to Logistic regression."
   ]
  },
  {
   "cell_type": "code",
   "execution_count": 15,
   "metadata": {},
   "outputs": [
    {
     "data": {
      "text/plain": [
       "array([ True])"
      ]
     },
     "execution_count": 15,
     "metadata": {},
     "output_type": "execute_result"
    }
   ],
   "source": [
    "from sklearn.linear_model import LogisticRegression\n",
    "\n",
    "log_reg = LogisticRegression(max_iter=1000000) #max iterations must be increased due to nature of the problem\n",
    "log_reg.fit(X_train, y_train_digit)\n",
    "log_reg.predict([zero_example])"
   ]
  },
  {
   "cell_type": "code",
   "execution_count": 16,
   "metadata": {},
   "outputs": [
    {
     "data": {
      "text/html": [
       "<style  type=\"text/css\" >\n",
       "    #T_5960bf55_35ea_11ee_bebb_40ec99cc0956row0_col0 {\n",
       "            background-color:  lightgreen;\n",
       "        }    #T_5960bf55_35ea_11ee_bebb_40ec99cc0956row0_col1 {\n",
       "            background-color:  lightgreen;\n",
       "        }    #T_5960bf55_35ea_11ee_bebb_40ec99cc0956row0_col2 {\n",
       "            background-color:  lightgreen;\n",
       "        }    #T_5960bf55_35ea_11ee_bebb_40ec99cc0956row1_col0 {\n",
       "            background-color:  lightgreen;\n",
       "        }    #T_5960bf55_35ea_11ee_bebb_40ec99cc0956row1_col1 {\n",
       "            background-color:  lightgreen;\n",
       "        }    #T_5960bf55_35ea_11ee_bebb_40ec99cc0956row1_col2 {\n",
       "            background-color:  lightgreen;\n",
       "        }    #T_5960bf55_35ea_11ee_bebb_40ec99cc0956row2_col0 {\n",
       "            background-color:  lightgreen;\n",
       "        }    #T_5960bf55_35ea_11ee_bebb_40ec99cc0956row2_col1 {\n",
       "            background-color:  lightgreen;\n",
       "        }    #T_5960bf55_35ea_11ee_bebb_40ec99cc0956row2_col2 {\n",
       "            background-color:  lightgreen;\n",
       "        }    #T_5960bf55_35ea_11ee_bebb_40ec99cc0956row3_col0 {\n",
       "            background-color:  lightgreen;\n",
       "        }    #T_5960bf55_35ea_11ee_bebb_40ec99cc0956row3_col1 {\n",
       "            background-color:  lightgreen;\n",
       "        }    #T_5960bf55_35ea_11ee_bebb_40ec99cc0956row3_col2 {\n",
       "            background-color:  lightgreen;\n",
       "        }    #T_5960bf55_35ea_11ee_bebb_40ec99cc0956row4_col0 {\n",
       "            background-color:  lightgreen;\n",
       "        }    #T_5960bf55_35ea_11ee_bebb_40ec99cc0956row4_col1 {\n",
       "            background-color:  lightgreen;\n",
       "        }    #T_5960bf55_35ea_11ee_bebb_40ec99cc0956row4_col2 {\n",
       "            background-color:  lightgreen;\n",
       "        }    #T_5960bf55_35ea_11ee_bebb_40ec99cc0956row5_col0 {\n",
       "            background-color:  lightgreen;\n",
       "        }    #T_5960bf55_35ea_11ee_bebb_40ec99cc0956row5_col1 {\n",
       "            background-color:  lightgreen;\n",
       "        }    #T_5960bf55_35ea_11ee_bebb_40ec99cc0956row5_col2 {\n",
       "            background-color:  lightgreen;\n",
       "        }</style><table id=\"T_5960bf55_35ea_11ee_bebb_40ec99cc0956\" ><thead>    <tr>        <th class=\"col_heading level0 col0\" >Digit</th>        <th class=\"col_heading level0 col1\" >Prediction</th>        <th class=\"col_heading level0 col2\" >Actual</th>    </tr></thead><tbody>\n",
       "                <tr>\n",
       "                                <td id=\"T_5960bf55_35ea_11ee_bebb_40ec99cc0956row0_col0\" class=\"data row0 col0\" >7</td>\n",
       "                        <td id=\"T_5960bf55_35ea_11ee_bebb_40ec99cc0956row0_col1\" class=\"data row0 col1\" >False</td>\n",
       "                        <td id=\"T_5960bf55_35ea_11ee_bebb_40ec99cc0956row0_col2\" class=\"data row0 col2\" >False</td>\n",
       "            </tr>\n",
       "            <tr>\n",
       "                                <td id=\"T_5960bf55_35ea_11ee_bebb_40ec99cc0956row1_col0\" class=\"data row1 col0\" >3</td>\n",
       "                        <td id=\"T_5960bf55_35ea_11ee_bebb_40ec99cc0956row1_col1\" class=\"data row1 col1\" >False</td>\n",
       "                        <td id=\"T_5960bf55_35ea_11ee_bebb_40ec99cc0956row1_col2\" class=\"data row1 col2\" >False</td>\n",
       "            </tr>\n",
       "            <tr>\n",
       "                                <td id=\"T_5960bf55_35ea_11ee_bebb_40ec99cc0956row2_col0\" class=\"data row2 col0\" >3</td>\n",
       "                        <td id=\"T_5960bf55_35ea_11ee_bebb_40ec99cc0956row2_col1\" class=\"data row2 col1\" >False</td>\n",
       "                        <td id=\"T_5960bf55_35ea_11ee_bebb_40ec99cc0956row2_col2\" class=\"data row2 col2\" >False</td>\n",
       "            </tr>\n",
       "            <tr>\n",
       "                                <td id=\"T_5960bf55_35ea_11ee_bebb_40ec99cc0956row3_col0\" class=\"data row3 col0\" >3</td>\n",
       "                        <td id=\"T_5960bf55_35ea_11ee_bebb_40ec99cc0956row3_col1\" class=\"data row3 col1\" >False</td>\n",
       "                        <td id=\"T_5960bf55_35ea_11ee_bebb_40ec99cc0956row3_col2\" class=\"data row3 col2\" >False</td>\n",
       "            </tr>\n",
       "            <tr>\n",
       "                                <td id=\"T_5960bf55_35ea_11ee_bebb_40ec99cc0956row4_col0\" class=\"data row4 col0\" >6</td>\n",
       "                        <td id=\"T_5960bf55_35ea_11ee_bebb_40ec99cc0956row4_col1\" class=\"data row4 col1\" >False</td>\n",
       "                        <td id=\"T_5960bf55_35ea_11ee_bebb_40ec99cc0956row4_col2\" class=\"data row4 col2\" >False</td>\n",
       "            </tr>\n",
       "            <tr>\n",
       "                                <td id=\"T_5960bf55_35ea_11ee_bebb_40ec99cc0956row5_col0\" class=\"data row5 col0\" >0</td>\n",
       "                        <td id=\"T_5960bf55_35ea_11ee_bebb_40ec99cc0956row5_col1\" class=\"data row5 col1\" >True</td>\n",
       "                        <td id=\"T_5960bf55_35ea_11ee_bebb_40ec99cc0956row5_col2\" class=\"data row5 col2\" >True</td>\n",
       "            </tr>\n",
       "    </tbody></table>"
      ],
      "text/plain": [
       "<pandas.io.formats.style.Styler at 0x27beaeedeb0>"
      ]
     },
     "execution_count": 16,
     "metadata": {},
     "output_type": "execute_result"
    }
   ],
   "source": [
    "draw_results_table(log_reg, 6)"
   ]
  },
  {
   "cell_type": "markdown",
   "metadata": {},
   "source": [
    "Logistic regression appears to be able to predict 0s and not 0s. Now moving onto Naive Bayes classification"
   ]
  },
  {
   "cell_type": "code",
   "execution_count": 17,
   "metadata": {},
   "outputs": [
    {
     "data": {
      "text/plain": [
       "array([ True])"
      ]
     },
     "execution_count": 17,
     "metadata": {},
     "output_type": "execute_result"
    }
   ],
   "source": [
    "from sklearn.naive_bayes import GaussianNB, MultinomialNB\n",
    "\n",
    "#gnb = MultinomialNB() # or:\n",
    "gnb = GaussianNB() \n",
    "gnb.fit(X_train, y_train_digit)\n",
    "gnb.predict([zero_example])"
   ]
  },
  {
   "cell_type": "code",
   "execution_count": 18,
   "metadata": {},
   "outputs": [
    {
     "data": {
      "text/html": [
       "<style  type=\"text/css\" >\n",
       "    #T_59cf711e_35ea_11ee_b3eb_40ec99cc0956row0_col0 {\n",
       "            background-color:  lightgreen;\n",
       "        }    #T_59cf711e_35ea_11ee_b3eb_40ec99cc0956row0_col1 {\n",
       "            background-color:  lightgreen;\n",
       "        }    #T_59cf711e_35ea_11ee_b3eb_40ec99cc0956row0_col2 {\n",
       "            background-color:  lightgreen;\n",
       "        }    #T_59cf711e_35ea_11ee_b3eb_40ec99cc0956row1_col0 {\n",
       "            background-color:  lightgreen;\n",
       "        }    #T_59cf711e_35ea_11ee_b3eb_40ec99cc0956row1_col1 {\n",
       "            background-color:  lightgreen;\n",
       "        }    #T_59cf711e_35ea_11ee_b3eb_40ec99cc0956row1_col2 {\n",
       "            background-color:  lightgreen;\n",
       "        }    #T_59cf711e_35ea_11ee_b3eb_40ec99cc0956row2_col0 {\n",
       "            background-color:  lightgreen;\n",
       "        }    #T_59cf711e_35ea_11ee_b3eb_40ec99cc0956row2_col1 {\n",
       "            background-color:  lightgreen;\n",
       "        }    #T_59cf711e_35ea_11ee_b3eb_40ec99cc0956row2_col2 {\n",
       "            background-color:  lightgreen;\n",
       "        }    #T_59cf711e_35ea_11ee_b3eb_40ec99cc0956row3_col0 {\n",
       "            background-color:  lightgreen;\n",
       "        }    #T_59cf711e_35ea_11ee_b3eb_40ec99cc0956row3_col1 {\n",
       "            background-color:  lightgreen;\n",
       "        }    #T_59cf711e_35ea_11ee_b3eb_40ec99cc0956row3_col2 {\n",
       "            background-color:  lightgreen;\n",
       "        }    #T_59cf711e_35ea_11ee_b3eb_40ec99cc0956row4_col0 {\n",
       "            background-color:  lightgreen;\n",
       "        }    #T_59cf711e_35ea_11ee_b3eb_40ec99cc0956row4_col1 {\n",
       "            background-color:  lightgreen;\n",
       "        }    #T_59cf711e_35ea_11ee_b3eb_40ec99cc0956row4_col2 {\n",
       "            background-color:  lightgreen;\n",
       "        }    #T_59cf711e_35ea_11ee_b3eb_40ec99cc0956row5_col0 {\n",
       "            background-color:  lightgreen;\n",
       "        }    #T_59cf711e_35ea_11ee_b3eb_40ec99cc0956row5_col1 {\n",
       "            background-color:  lightgreen;\n",
       "        }    #T_59cf711e_35ea_11ee_b3eb_40ec99cc0956row5_col2 {\n",
       "            background-color:  lightgreen;\n",
       "        }</style><table id=\"T_59cf711e_35ea_11ee_b3eb_40ec99cc0956\" ><thead>    <tr>        <th class=\"col_heading level0 col0\" >Digit</th>        <th class=\"col_heading level0 col1\" >Prediction</th>        <th class=\"col_heading level0 col2\" >Actual</th>    </tr></thead><tbody>\n",
       "                <tr>\n",
       "                                <td id=\"T_59cf711e_35ea_11ee_b3eb_40ec99cc0956row0_col0\" class=\"data row0 col0\" >7</td>\n",
       "                        <td id=\"T_59cf711e_35ea_11ee_b3eb_40ec99cc0956row0_col1\" class=\"data row0 col1\" >False</td>\n",
       "                        <td id=\"T_59cf711e_35ea_11ee_b3eb_40ec99cc0956row0_col2\" class=\"data row0 col2\" >False</td>\n",
       "            </tr>\n",
       "            <tr>\n",
       "                                <td id=\"T_59cf711e_35ea_11ee_b3eb_40ec99cc0956row1_col0\" class=\"data row1 col0\" >3</td>\n",
       "                        <td id=\"T_59cf711e_35ea_11ee_b3eb_40ec99cc0956row1_col1\" class=\"data row1 col1\" >False</td>\n",
       "                        <td id=\"T_59cf711e_35ea_11ee_b3eb_40ec99cc0956row1_col2\" class=\"data row1 col2\" >False</td>\n",
       "            </tr>\n",
       "            <tr>\n",
       "                                <td id=\"T_59cf711e_35ea_11ee_b3eb_40ec99cc0956row2_col0\" class=\"data row2 col0\" >3</td>\n",
       "                        <td id=\"T_59cf711e_35ea_11ee_b3eb_40ec99cc0956row2_col1\" class=\"data row2 col1\" >False</td>\n",
       "                        <td id=\"T_59cf711e_35ea_11ee_b3eb_40ec99cc0956row2_col2\" class=\"data row2 col2\" >False</td>\n",
       "            </tr>\n",
       "            <tr>\n",
       "                                <td id=\"T_59cf711e_35ea_11ee_b3eb_40ec99cc0956row3_col0\" class=\"data row3 col0\" >3</td>\n",
       "                        <td id=\"T_59cf711e_35ea_11ee_b3eb_40ec99cc0956row3_col1\" class=\"data row3 col1\" >False</td>\n",
       "                        <td id=\"T_59cf711e_35ea_11ee_b3eb_40ec99cc0956row3_col2\" class=\"data row3 col2\" >False</td>\n",
       "            </tr>\n",
       "            <tr>\n",
       "                                <td id=\"T_59cf711e_35ea_11ee_b3eb_40ec99cc0956row4_col0\" class=\"data row4 col0\" >6</td>\n",
       "                        <td id=\"T_59cf711e_35ea_11ee_b3eb_40ec99cc0956row4_col1\" class=\"data row4 col1\" >False</td>\n",
       "                        <td id=\"T_59cf711e_35ea_11ee_b3eb_40ec99cc0956row4_col2\" class=\"data row4 col2\" >False</td>\n",
       "            </tr>\n",
       "            <tr>\n",
       "                                <td id=\"T_59cf711e_35ea_11ee_b3eb_40ec99cc0956row5_col0\" class=\"data row5 col0\" >0</td>\n",
       "                        <td id=\"T_59cf711e_35ea_11ee_b3eb_40ec99cc0956row5_col1\" class=\"data row5 col1\" >True</td>\n",
       "                        <td id=\"T_59cf711e_35ea_11ee_b3eb_40ec99cc0956row5_col2\" class=\"data row5 col2\" >True</td>\n",
       "            </tr>\n",
       "    </tbody></table>"
      ],
      "text/plain": [
       "<pandas.io.formats.style.Styler at 0x27be8e51ee0>"
      ]
     },
     "execution_count": 18,
     "metadata": {},
     "output_type": "execute_result"
    }
   ],
   "source": [
    "draw_results_table(gnb, 6)"
   ]
  },
  {
   "cell_type": "markdown",
   "metadata": {},
   "source": [
    "And finally, the Naive Bayes classifier appears to be able to predict 0s and not 0s."
   ]
  },
  {
   "cell_type": "markdown",
   "metadata": {},
   "source": [
    "<h2>Evaluating the models<\\h2>"
   ]
  },
  {
   "cell_type": "markdown",
   "metadata": {},
   "source": [
    "Firstly looking at the accuracy score for each model "
   ]
  },
  {
   "cell_type": "code",
   "execution_count": 19,
   "metadata": {},
   "outputs": [
    {
     "name": "stdout",
     "output_type": "stream",
     "text": [
      "[1.         1.         0.99651568 1.         0.99303136] -> Logistic regression\n",
      "[0.98263889 0.98958333 0.98954704 0.98954704 0.9825784 ] -> Naive Bayes\n",
      "[1.         1.         0.99651568 0.99303136 0.99303136] -> Simple perceptron\n"
     ]
    }
   ],
   "source": [
    "from sklearn.model_selection import cross_val_score\n",
    "\n",
    "print(cross_val_score(log_reg, X_train, y_train_digit, cv=5, scoring=\"accuracy\"), \"-> Logistic regression\")\n",
    "print(cross_val_score(gnb, X_train, y_train_digit, cv=5, scoring=\"accuracy\"), \"-> Naive Bayes\")\n",
    "print(cross_val_score(sgd, X_train, y_train_digit, cv=5, scoring=\"accuracy\"), \"-> Simple perceptron\")"
   ]
  },
  {
   "cell_type": "markdown",
   "metadata": {},
   "source": [
    "For 0s and not 0s all 3 have high scores, however if the test digit is 8 (i.e. classifying 8s and not 8s) Naive Bayes performs significantly poorly (accuracy of roughly 0.5 which is the worst possible score). Now onto looking at confusion matrices for the logistic regression and naive Bayes."
   ]
  },
  {
   "cell_type": "markdown",
   "metadata": {},
   "source": [
    "|                  | predicted $\\hat c=0$| predicted $\\hat c=1$ |\n",
    "|  -------------   |   :-------------:   |    :-------------:   |\n",
    "| **actual $c=0$** | TN                  |   FP                 |\n",
    "| **actual $c=1$** | FN                  |   TP                 |"
   ]
  },
  {
   "cell_type": "code",
   "execution_count": 20,
   "metadata": {},
   "outputs": [
    {
     "data": {
      "text/plain": [
       "array([[1294,    1],\n",
       "       [   2,  140]], dtype=int64)"
      ]
     },
     "execution_count": 20,
     "metadata": {},
     "output_type": "execute_result"
    }
   ],
   "source": [
    "from sklearn.model_selection import cross_val_predict\n",
    "from sklearn.metrics import confusion_matrix\n",
    "\n",
    "#Logistic regression\n",
    "y_train_pred = cross_val_predict(log_reg, X_train, y_train_digit, cv=5)\n",
    "confusion_matrix(y_train_digit, y_train_pred)"
   ]
  },
  {
   "cell_type": "code",
   "execution_count": 21,
   "metadata": {},
   "outputs": [
    {
     "data": {
      "text/plain": [
       "array([[1278,   17],\n",
       "       [   2,  140]], dtype=int64)"
      ]
     },
     "execution_count": 21,
     "metadata": {},
     "output_type": "execute_result"
    }
   ],
   "source": [
    "#Naive Bayes\n",
    "y_train_pred = cross_val_predict(gnb, X_train, y_train_digit, cv=5)\n",
    "confusion_matrix(y_train_digit, y_train_pred)"
   ]
  },
  {
   "cell_type": "markdown",
   "metadata": {},
   "source": [
    "As shown above, for 0s the Naive Bayes model has more false positives than logistic regression. Now onto investigating precision, recall, and f1 score.<br>Firstly for logistic regression (precision, recall ,f1):"
   ]
  },
  {
   "cell_type": "code",
   "execution_count": 23,
   "metadata": {},
   "outputs": [],
   "source": [
    "from sklearn.metrics import precision_score, recall_score, f1_score"
   ]
  },
  {
   "cell_type": "code",
   "execution_count": 24,
   "metadata": {},
   "outputs": [
    {
     "name": "stdout",
     "output_type": "stream",
     "text": [
      "0.9929078014184397 0.9859154929577465 0.9893992932862191\n"
     ]
    }
   ],
   "source": [
    "y_train_pred = cross_val_predict(log_reg, X_train, y_train_digit, cv=5)\n",
    "precision = precision_score(y_train_digit, y_train_pred)\n",
    "recall = recall_score(y_train_digit, y_train_pred) \n",
    "f1 = f1_score(y_train_digit, y_train_pred)\n",
    "print(precision, recall, f1)"
   ]
  },
  {
   "cell_type": "markdown",
   "metadata": {},
   "source": [
    "And now for Naive Bayes:"
   ]
  },
  {
   "cell_type": "code",
   "execution_count": 25,
   "metadata": {},
   "outputs": [
    {
     "name": "stdout",
     "output_type": "stream",
     "text": [
      "0.89171974522293 0.9859154929577465 0.9364548494983277\n"
     ]
    }
   ],
   "source": [
    "y_train_pred = cross_val_predict(gnb, X_train, y_train_digit, cv=5)\n",
    "precision = precision_score(y_train_digit, y_train_pred)\n",
    "recall = recall_score(y_train_digit, y_train_pred) \n",
    "f1 = f1_score(y_train_digit, y_train_pred)\n",
    "print(precision, recall, f1)"
   ]
  },
  {
   "cell_type": "markdown",
   "metadata": {},
   "source": [
    "The above results show that Naive Bayes has signifcantly lower precision for the binary classification"
   ]
  },
  {
   "cell_type": "markdown",
   "metadata": {},
   "source": [
    "<h2>Precision and recall graphs and ROC curve</h2>"
   ]
  },
  {
   "cell_type": "markdown",
   "metadata": {},
   "source": [
    "Firstly getting the confidence values for each digit in the training set"
   ]
  },
  {
   "cell_type": "code",
   "execution_count": 26,
   "metadata": {},
   "outputs": [
    {
     "data": {
      "text/plain": [
       "array([-29.52501307, -11.23586758,  -6.58755911, ..., -13.71664323,\n",
       "       -23.25836066, -15.27974195])"
      ]
     },
     "execution_count": 26,
     "metadata": {},
     "output_type": "execute_result"
    }
   ],
   "source": [
    "y_scores = cross_val_predict(log_reg, X_train, y_train_digit, cv=5, method=\"decision_function\")\n",
    "y_scores"
   ]
  },
  {
   "cell_type": "markdown",
   "metadata": {},
   "source": [
    "Now plotting precision and recall against the confidence threshold"
   ]
  },
  {
   "cell_type": "code",
   "execution_count": 27,
   "metadata": {},
   "outputs": [
    {
     "data": {
      "image/png": "[encoded data removed]",
      "text/plain": [
       "<Figure size 432x288 with 1 Axes>"
      ]
     },
     "metadata": {
      "needs_background": "light"
     },
     "output_type": "display_data"
    }
   ],
   "source": [
    "from sklearn.metrics import precision_recall_curve\n",
    "  \n",
    "precisions, recalls, thresholds = precision_recall_curve(y_train_digit, y_scores)\n",
    "\n",
    "def plot_pr_vs_threshold(precisions, recalls, thresholds):\n",
    "    plt.plot(thresholds, precisions[:-1], \"r--\", label=\"Precision\")\n",
    "    plt.plot(thresholds, recalls[:-1], \"y--\", label=\"Recall\")\n",
    "    plt.xlabel(\"Threshold\")\n",
    "    plt.legend(loc=\"upper right\")\n",
    "    plt.ylim([0, 1])\n",
    "    plt.title(\"Precision and recall against confidence threshold for logistic regression\")\n",
    "    \n",
    "plot_pr_vs_threshold(precisions, recalls, thresholds)\n",
    "plt.show()"
   ]
  },
  {
   "cell_type": "markdown",
   "metadata": {},
   "source": [
    "The graph shows that at a threshold of 0 precision and recall are extremely high, with precision increasing marginally to 1 at a threshold of around 3.5. When the test digit is 8 the graph shows a more normal relationship between precision and recall, as recall decreases precision increases with their crossover at a threshold of 0.<br>\n",
    "Now onto plotting precision against recall"
   ]
  },
  {
   "cell_type": "code",
   "execution_count": 28,
   "metadata": {},
   "outputs": [
    {
     "data": {
      "image/png": "[encoded data removed]",
      "text/plain": [
       "<Figure size 432x288 with 1 Axes>"
      ]
     },
     "metadata": {
      "needs_background": "light"
     },
     "output_type": "display_data"
    }
   ],
   "source": [
    "def plot_precision_vs_recall(precisions, recalls):\n",
    "    plt.plot(recalls, precisions, \"b-\", linewidth=2, label=\"Logistic regression\")\n",
    "    plt.xlabel(\"Recall\")\n",
    "    plt.ylabel(\"Precision\")\n",
    "    plt.axis([0, 1, 0, 1])\n",
    "    plt.legend(loc=\"lower right\")\n",
    "    plt.title(\"Precision against recall for logistic regression\")\n",
    "\n",
    "\n",
    "plot_precision_vs_recall(precisions, recalls)\n",
    "plt.show()"
   ]
  },
  {
   "cell_type": "markdown",
   "metadata": {},
   "source": [
    "As shown above, for classifying 0s the logistic regression model is nearly perfect. Now onto plotting the ROC curve"
   ]
  },
  {
   "cell_type": "code",
   "execution_count": 29,
   "metadata": {},
   "outputs": [
    {
     "data": {
      "image/png": "[encoded data removed]",
      "text/plain": [
       "<Figure size 432x288 with 1 Axes>"
      ]
     },
     "metadata": {
      "needs_background": "light"
     },
     "output_type": "display_data"
    }
   ],
   "source": [
    "from sklearn.metrics import roc_curve\n",
    "\n",
    "fpr, tpr, thresholds = roc_curve(y_train_digit, y_scores)\n",
    "\n",
    "def plot_roc_curve(fpr, tpr, label=None):\n",
    "    plt.plot(fpr, tpr, linewidth=2, label=\"Logistic regression\")\n",
    "    plt.plot([0, 1], [0, 1], \"k--\")\n",
    "    plt.axis([0, 1, 0, 1.01])\n",
    "    plt.xlabel(\"False positive rate (fpr)\")\n",
    "    plt.ylabel(\"True positive rate (tpr)\")\n",
    "    plt.legend(loc=\"lower right\")\n",
    "    plt.title(\"ROC graph for logistic regression\")\n",
    "\n",
    "\n",
    "    \n",
    "plot_roc_curve(fpr, tpr)\n",
    "plt.show()"
   ]
  },
  {
   "cell_type": "markdown",
   "metadata": {},
   "source": [
    "Once again the graph shows the model is performing well against the test data. Now calculating the area under the ROC curve"
   ]
  },
  {
   "cell_type": "code",
   "execution_count": 30,
   "metadata": {},
   "outputs": [
    {
     "data": {
      "text/plain": [
       "0.9999510576975366"
      ]
     },
     "execution_count": 30,
     "metadata": {},
     "output_type": "execute_result"
    }
   ],
   "source": [
    "from sklearn.metrics import roc_auc_score\n",
    "roc_auc_score(y_train_digit, y_scores)"
   ]
  },
  {
   "cell_type": "markdown",
   "metadata": {},
   "source": [
    "A perfect classifier has an AUC of 1 hence this classifier is performing excellently so far. Now shoing the ROC curve of both the Naive Bayes and logistic regression"
   ]
  },
  {
   "cell_type": "code",
   "execution_count": 31,
   "metadata": {},
   "outputs": [
    {
     "data": {
      "image/png": "[encoded data removed]",
      "text/plain": [
       "<Figure size 432x288 with 1 Axes>"
      ]
     },
     "metadata": {
      "needs_background": "light"
     },
     "output_type": "display_data"
    }
   ],
   "source": [
    "y_probas_gnb = cross_val_predict(gnb, X_train, y_train_digit, cv=3, method=\"predict_proba\")\n",
    "y_scores_gnb = y_probas_gnb[:, 1] # score = proba of the positive class\n",
    "fpr_gnb, tpr_gnb, thresholds_gnb = roc_curve(y_train_digit, y_scores_gnb)\n",
    "\n",
    "plt.plot(fpr, tpr, \"b:\", label=\"Logistic Regression\")\n",
    "plot_roc_curve(fpr_gnb, tpr_gnb, \"Gaussian Naive Bayes\")\n",
    "plt.legend(loc=\"lower right\")\n",
    "plt.title(\"ROC graph for logistic regression and Gaussian naive Bayes\")\n",
    "plt.show()"
   ]
  },
  {
   "cell_type": "markdown",
   "metadata": {},
   "source": [
    "As shown the logistic regression model performs slightly better than the Naive Bayes"
   ]
  },
  {
   "cell_type": "markdown",
   "metadata": {},
   "source": [
    "<h2>Data transformations</h2>"
   ]
  },
  {
   "cell_type": "markdown",
   "metadata": {},
   "source": [
    "Firstly applying kernel trick (higher dimensions) to the simple perceptron"
   ]
  },
  {
   "cell_type": "code",
   "execution_count": 32,
   "metadata": {},
   "outputs": [
    {
     "name": "stdout",
     "output_type": "stream",
     "text": [
      "(1437, 64) -> (1437, 100)\n"
     ]
    },
    {
     "data": {
      "text/plain": [
       "0.8970076548364648"
      ]
     },
     "execution_count": 32,
     "metadata": {},
     "output_type": "execute_result"
    }
   ],
   "source": [
    "from sklearn.kernel_approximation import RBFSampler\n",
    "\n",
    "rbf_features = RBFSampler(gamma=1, random_state=42)\n",
    "X_train_features = rbf_features.fit_transform(X_train)\n",
    "print(X_train.shape, \"->\", X_train_features.shape)\n",
    "sgd_rbf = SGDClassifier(max_iter=100, random_state=42, loss=\"perceptron\", \n",
    "                        eta0=1, learning_rate=\"constant\", penalty=None)\n",
    "sgd_rbf.fit(X_train_features, y_train_digit) \n",
    "\n",
    "sgd_rbf.score(X_train_features, y_train_digit)"
   ]
  },
  {
   "cell_type": "markdown",
   "metadata": {},
   "source": [
    "This in fact results in a slightly worse accuracy score for the model. Now analysing precision, recall, and F1"
   ]
  },
  {
   "cell_type": "code",
   "execution_count": 33,
   "metadata": {},
   "outputs": [
    {
     "name": "stdout",
     "output_type": "stream",
     "text": [
      "0.9858156028368794 0.9788732394366197 0.9823321554770318 <- Unmodified data\n",
      "0.01904761904761905 0.014084507042253521 0.016194331983805668 <- Transformed data\n"
     ]
    }
   ],
   "source": [
    "y_train_pred = cross_val_predict(sgd, X_train, y_train_digit, cv=5)\n",
    "precision = precision_score(y_train_digit, y_train_pred)\n",
    "recall = recall_score(y_train_digit, y_train_pred)\n",
    "f1 = f1_score(y_train_digit, y_train_pred)\n",
    "print(precision, recall, f1, \"<- Unmodified data\")\n",
    "\n",
    "y_train_pred = cross_val_predict(sgd_rbf, X_train_features, y_train_digit, cv=5)\n",
    "precision = precision_score(y_train_digit, y_train_pred)\n",
    "recall = recall_score(y_train_digit, y_train_pred)\n",
    "f1 = f1_score(y_train_digit, y_train_pred)\n",
    "print(precision, recall, f1, \"<- Transformed data\")"
   ]
  },
  {
   "cell_type": "markdown",
   "metadata": {},
   "source": [
    "Applying kernel trick here has actually decreased all 3 measures of performance significantly hence it's best to keep the data unmodified for now"
   ]
  },
  {
   "cell_type": "markdown",
   "metadata": {},
   "source": [
    "<h2>Multiclass classification</h2>"
   ]
  },
  {
   "cell_type": "markdown",
   "metadata": {},
   "source": [
    "Firstly appling the perceptron on all classes using one vs all"
   ]
  },
  {
   "cell_type": "code",
   "execution_count": 34,
   "metadata": {},
   "outputs": [
    {
     "name": "stdout",
     "output_type": "stream",
     "text": [
      "[0]\n",
      "[6]\n"
     ]
    }
   ],
   "source": [
    "sgd.fit(X_train, y_train) # i.e., all instances, not just one class\n",
    "print(sgd.predict([zero_example]))\n",
    "print(sgd.predict([six_example]))"
   ]
  },
  {
   "cell_type": "markdown",
   "metadata": {},
   "source": [
    "Checking the motivation behind it using confidence thresholds"
   ]
  },
  {
   "cell_type": "code",
   "execution_count": 35,
   "metadata": {},
   "outputs": [
    {
     "name": "stdout",
     "output_type": "stream",
     "text": [
      "[[ 1748. -9021. -9183. -7811. -4422. -6033. -7197. -7738. -7682. -3997.]]\n",
      "0\n"
     ]
    }
   ],
   "source": [
    "zero_scores = sgd.decision_function([zero_example])\n",
    "print(zero_scores)\n",
    "\n",
    "# check which class gets the maximum score\n",
    "prediction = np.argmax(zero_scores)\n",
    "print(prediction)"
   ]
  },
  {
   "cell_type": "markdown",
   "metadata": {},
   "source": [
    "Now trying the one vs one strategy"
   ]
  },
  {
   "cell_type": "code",
   "execution_count": 36,
   "metadata": {},
   "outputs": [
    {
     "data": {
      "text/plain": [
       "array([0])"
      ]
     },
     "execution_count": 36,
     "metadata": {},
     "output_type": "execute_result"
    }
   ],
   "source": [
    "from sklearn.multiclass import OneVsOneClassifier\n",
    "\n",
    "ovo_clf = OneVsOneClassifier(SGDClassifier(max_iter=100, random_state=42, loss=\"perceptron\", \n",
    "                                           eta0=1, learning_rate=\"constant\", penalty=None))\n",
    "ovo_clf.fit(X_train, y_train)\n",
    "ovo_clf.predict([zero_example])"
   ]
  },
  {
   "cell_type": "markdown",
   "metadata": {},
   "source": [
    "Now applying Naive Bayes to all the classes"
   ]
  },
  {
   "cell_type": "code",
   "execution_count": 37,
   "metadata": {},
   "outputs": [
    {
     "name": "stdout",
     "output_type": "stream",
     "text": [
      "[0]\n"
     ]
    },
    {
     "data": {
      "text/plain": [
       "array([[1.00000000e+000, 6.31653055e-043, 1.91127581e-196,\n",
       "        1.80240700e-185, 7.67240288e-029, 4.14981222e-070,\n",
       "        0.00000000e+000, 0.00000000e+000, 8.12517279e-130,\n",
       "        1.47022338e-057]])"
      ]
     },
     "execution_count": 37,
     "metadata": {},
     "output_type": "execute_result"
    }
   ],
   "source": [
    "gnb.fit(X_train, y_train)\n",
    "print(gnb.predict([zero_example]))\n",
    "gnb.predict_proba([zero_example])"
   ]
  },
  {
   "cell_type": "markdown",
   "metadata": {},
   "source": [
    "Inspecting the accuracy scores across for multiple classification of all 3 models"
   ]
  },
  {
   "cell_type": "code",
   "execution_count": 38,
   "metadata": {},
   "outputs": [
    {
     "name": "stdout",
     "output_type": "stream",
     "text": [
      "[0.92361111 0.93055556 0.90940767 0.93031359 0.90940767]\n",
      "[0.97222222 0.95486111 0.95470383 0.96864111 0.95818815]\n",
      "[0.83680556 0.81597222 0.81184669 0.85017422 0.82926829]\n"
     ]
    }
   ],
   "source": [
    "print(cross_val_score(sgd, X_train, y_train, cv=5, scoring=\"accuracy\"))\n",
    "print(cross_val_score(ovo_clf, X_train, y_train, cv=5, scoring=\"accuracy\"))\n",
    "print(cross_val_score(gnb, X_train, y_train, cv=5, scoring=\"accuracy\"))"
   ]
  },
  {
   "cell_type": "markdown",
   "metadata": {},
   "source": [
    "One vs one simple perceptron appears to be the best, now onto scaling the data to try ad increase performance"
   ]
  },
  {
   "cell_type": "code",
   "execution_count": 39,
   "metadata": {},
   "outputs": [
    {
     "name": "stdout",
     "output_type": "stream",
     "text": [
      "[0.92013889 0.92013889 0.92334495 0.92682927 0.89547038]\n",
      "[0.95486111 0.95833333 0.94773519 0.96864111 0.93379791]\n",
      "[0.78125    0.75       0.77003484 0.80487805 0.77351916]\n"
     ]
    }
   ],
   "source": [
    "from sklearn.preprocessing import StandardScaler, MinMaxScaler\n",
    "\n",
    "scaler = StandardScaler()\n",
    "X_train_scaled = scaler.fit_transform(X_train.astype(np.float64))\n",
    "\n",
    "print(cross_val_score(sgd, X_train_scaled, y_train, cv=5, scoring=\"accuracy\"))\n",
    "print(cross_val_score(ovo_clf, X_train_scaled, y_train, cv=5, scoring=\"accuracy\"))\n",
    "print(cross_val_score(gnb, X_train_scaled, y_train, cv=5, scoring=\"accuracy\"))"
   ]
  },
  {
   "cell_type": "markdown",
   "metadata": {},
   "source": [
    "Scaling has in fact decreased performance and hence will not be used"
   ]
  },
  {
   "cell_type": "markdown",
   "metadata": {},
   "source": [
    "<h2>Error analysis<\\h2>"
   ]
  },
  {
   "cell_type": "markdown",
   "metadata": {},
   "source": [
    "Plotting the distribution of the simple perceptron in a confusion matrix"
   ]
  },
  {
   "cell_type": "code",
   "execution_count": 40,
   "metadata": {},
   "outputs": [
    {
     "data": {
      "text/plain": [
       "array([[141,   0,   0,   0,   1,   0,   0,   0,   0,   0],\n",
       "       [  0, 130,   3,   4,   5,   0,   2,   0,   0,   1],\n",
       "       [  0,   3, 138,   0,   0,   0,   0,   1,   0,   0],\n",
       "       [  0,   1,   2, 139,   0,   1,   0,   2,   0,   1],\n",
       "       [  0,   0,   0,   0, 143,   0,   0,   1,   1,   0],\n",
       "       [  1,   0,   1,   0,   1, 141,   1,   0,   0,   1],\n",
       "       [  0,   1,   0,   0,   2,   0, 141,   0,   1,   0],\n",
       "       [  0,   0,   0,   1,   0,   0,   0, 139,   0,   3],\n",
       "       [  0,  13,   5,  10,   1,   3,   7,   1,  98,   1],\n",
       "       [  0,   5,   1,   1,   4,   2,   0,   3,   1, 127]], dtype=int64)"
      ]
     },
     "execution_count": 40,
     "metadata": {},
     "output_type": "execute_result"
    }
   ],
   "source": [
    "y_train_pred = cross_val_predict(sgd, X_train, y_train, cv=3)\n",
    "conf_mx = confusion_matrix(y_train, y_train_pred)\n",
    "conf_mx"
   ]
  },
  {
   "cell_type": "code",
   "execution_count": 41,
   "metadata": {},
   "outputs": [
    {
     "data": {
      "image/png": "[encoded data removed]",
      "text/plain": [
       "<Figure size 432x288 with 2 Axes>"
      ]
     },
     "metadata": {
      "needs_background": "light"
     },
     "output_type": "display_data"
    }
   ],
   "source": [
    "im = plt.imshow(conf_mx, cmap = \"jet\")\n",
    "plt.colorbar(im)\n",
    "plt.title(\"Heat map showing number of predictions corresponding to actual values for logistic regression\")\n",
    "plt.xlabel(\"Actual result\")\n",
    "plt.ylabel(\"Prediction\")\n",
    "plt.show()"
   ]
  },
  {
   "cell_type": "markdown",
   "metadata": {},
   "source": [
    "As shown above the perceptron struggles to classify 8s the most and 0s are one of its more confident digits. Now making the most significant errors more prominant"
   ]
  },
  {
   "cell_type": "code",
   "execution_count": 42,
   "metadata": {},
   "outputs": [
    {
     "data": {
      "image/png": "[encoded data removed]",
      "text/plain": [
       "<Figure size 640x480 with 2 Axes>"
      ]
     },
     "metadata": {
      "needs_background": "light"
     },
     "output_type": "display_data"
    }
   ],
   "source": [
    "from matplotlib.pyplot import figure\n",
    "\n",
    "figure(figsize=(8, 6), dpi=80)\n",
    "row_sums = conf_mx.sum(axis=1, keepdims=True)\n",
    "norm_conf_mx = conf_mx / row_sums\n",
    "np.fill_diagonal(norm_conf_mx, 0)\n",
    "im = plt.imshow(norm_conf_mx, cmap = \"jet\")\n",
    "plt.colorbar(im)\n",
    "plt.title(\"Heat map showing error rate for predictions of digits in training\")\n",
    "plt.xlabel(\"Actual result\")\n",
    "plt.ylabel(\"Prediction\")\n",
    "plt.show()\n"
   ]
  },
  {
   "cell_type": "markdown",
   "metadata": {},
   "source": [
    "As shown above, the classifier interestingly struggles the most with distinguishing between 8s and 1s"
   ]
  },
  {
   "cell_type": "markdown",
   "metadata": {},
   "source": [
    "<h2>Final evaluations on the test set<\\h2>"
   ]
  },
  {
   "cell_type": "markdown",
   "metadata": {},
   "source": [
    "Firstly evaluating the simple perceptron with scaling and kernel trick"
   ]
  },
  {
   "cell_type": "code",
   "execution_count": 44,
   "metadata": {},
   "outputs": [
    {
     "name": "stdout",
     "output_type": "stream",
     "text": [
      "0.09166666666666666 0.01909341193351499 0.09166666666666666 0.03144738051359444\n"
     ]
    }
   ],
   "source": [
    "from sklearn.preprocessing import StandardScaler, MinMaxScaler\n",
    "from sklearn.metrics import accuracy_score\n",
    "\n",
    "scaler = StandardScaler()\n",
    "X_train_scaled = scaler.fit_transform(X_train.astype(np.float64))\n",
    "X_test_features = rbf_features.transform(X_test)\n",
    "X_test_features_scaled = scaler.fit_transform(X_test_features.astype(np.float64))\n",
    "y_pred = sgd_rbf.predict(X_test_features_scaled)\n",
    "accuracy = accuracy_score(y_test, y_pred)\n",
    "\n",
    "precision = precision_score(y_test, y_pred, average='weighted',zero_division=False)\n",
    "recall = recall_score(y_test, y_pred, average='weighted')\n",
    "f1 = f1_score(y_test, y_pred, average='weighted')\n",
    "print(accuracy, precision, recall, f1)"
   ]
  },
  {
   "cell_type": "markdown",
   "metadata": {},
   "source": [
    "Evidently extremely poor results hence scaling and kernel trick should not be used with the simple perceptron"
   ]
  },
  {
   "cell_type": "markdown",
   "metadata": {},
   "source": [
    "Now evaluating the one vs one perceptron without scaling or kernel trick"
   ]
  },
  {
   "cell_type": "code",
   "execution_count": 45,
   "metadata": {},
   "outputs": [
    {
     "data": {
      "text/plain": [
       "0.9694444444444444"
      ]
     },
     "execution_count": 45,
     "metadata": {},
     "output_type": "execute_result"
    }
   ],
   "source": [
    "y_pred = ovo_clf.predict(X_test)\n",
    "accuracy_score(y_test, y_pred)"
   ]
  },
  {
   "cell_type": "code",
   "execution_count": 46,
   "metadata": {},
   "outputs": [
    {
     "name": "stdout",
     "output_type": "stream",
     "text": [
      "0.9702662091916479 0.9694444444444444 0.9695944146004564\n"
     ]
    }
   ],
   "source": [
    "precision = precision_score(y_test, y_pred, average='weighted')\n",
    "recall = recall_score(y_test, y_pred, average='weighted')\n",
    "f1 = f1_score(y_test, y_pred, average='weighted')\n",
    "print(precision, recall, f1)"
   ]
  },
  {
   "cell_type": "markdown",
   "metadata": {},
   "source": [
    "Evidently much better results with high scores on all 4 measures. <br> Now evaluating Guassian Naive Bayes"
   ]
  },
  {
   "cell_type": "code",
   "execution_count": 47,
   "metadata": {},
   "outputs": [
    {
     "data": {
      "text/plain": [
       "0.8305555555555556"
      ]
     },
     "execution_count": 47,
     "metadata": {},
     "output_type": "execute_result"
    }
   ],
   "source": [
    "gnb.fit(X_train, y_train)\n",
    "y_pred = gnb.predict(X_test)\n",
    "accuracy_score(y_test, y_pred)"
   ]
  },
  {
   "cell_type": "code",
   "execution_count": 48,
   "metadata": {},
   "outputs": [
    {
     "name": "stdout",
     "output_type": "stream",
     "text": [
      "0.8623357277794652 0.8305555555555556 0.8288976479140596\n"
     ]
    }
   ],
   "source": [
    "precision = precision_score(y_test, y_pred, average='weighted')\n",
    "recall = recall_score(y_test, y_pred, average='weighted')\n",
    "f1 = f1_score(y_test, y_pred, average='weighted')\n",
    "print(precision, recall, f1)"
   ]
  },
  {
   "cell_type": "markdown",
   "metadata": {},
   "source": [
    "A decent performance across all 4 measures but in terms of perfomance Naive Bayes has been beaten by the simple perceptron."
   ]
  },
  {
   "cell_type": "markdown",
   "metadata": {},
   "source": []
  },
  {
   "cell_type": "code",
   "execution_count": null,
   "metadata": {},
   "outputs": [],
   "source": []
  },
  {
   "cell_type": "code",
   "execution_count": null,
   "metadata": {},
   "outputs": [],
   "source": []
  }
 ],
 "metadata": {
  "kernelspec": {
   "display_name": "Python 3",
   "language": "python",
   "name": "python3"
  },
  "language_info": {
   "codemirror_mode": {
    "name": "ipython",
    "version": 3
   },
   "file_extension": ".py",
   "mimetype": "text/x-python",
   "name": "python",
   "nbconvert_exporter": "python",
   "pygments_lexer": "ipython3",
   "version": "3.8.3"
  }
 },
 "nbformat": 4,
 "nbformat_minor": 4
}
