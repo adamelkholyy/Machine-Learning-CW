{
 "cells": [
  {
   "cell_type": "markdown",
   "metadata": {},
   "source": [
    "<h1>Predicting ocean proximity in Californian housing dataset using a Neural Network"
   ]
  },
  {
   "cell_type": "markdown",
   "metadata": {},
   "source": [
    "In this notebook we build multiple models to predict the ocean proximity parameter in a dataset of Californian houses using tensorflow and keras. First we must pre-process the data."
   ]
  },
  {
   "cell_type": "code",
   "execution_count": 1,
   "metadata": {
    "id": "e7dEykBlJ81V"
   },
   "outputs": [],
   "source": [
    "%matplotlib inline \n",
    "\n",
    "import numpy as np \n",
    "np.random.seed(42)\n",
    "\n",
    "import matplotlib\n",
    "from matplotlib import pyplot as plt"
   ]
  },
  {
   "cell_type": "code",
   "execution_count": 2,
   "metadata": {
    "id": "d60MpcU8J81X"
   },
   "outputs": [],
   "source": [
    "import tensorflow as tf"
   ]
  },
  {
   "cell_type": "code",
   "execution_count": 3,
   "metadata": {
    "colab": {
     "base_uri": "https://localhost:8080/",
     "height": 37
    },
    "id": "pBnet3Z4J81Y",
    "outputId": "2672211d-929c-4753-8245-4df909a004c7"
   },
   "outputs": [
    {
     "data": {
      "text/plain": [
       "'2.8.0'"
      ]
     },
     "execution_count": 3,
     "metadata": {},
     "output_type": "execute_result"
    }
   ],
   "source": [
    "tf.__version__"
   ]
  },
  {
   "cell_type": "code",
   "execution_count": 4,
   "metadata": {},
   "outputs": [],
   "source": [
    "np.random.seed(42)\n",
    "tf.random.set_seed(42)\n",
    "from sklearn.datasets import fetch_california_housing\n",
    "\n",
    "housing = fetch_california_housing()"
   ]
  },
  {
   "cell_type": "code",
   "execution_count": 5,
   "metadata": {},
   "outputs": [
    {
     "data": {
      "text/html": [
       "<div>\n",
       "<style scoped>\n",
       "    .dataframe tbody tr th:only-of-type {\n",
       "        vertical-align: middle;\n",
       "    }\n",
       "\n",
       "    .dataframe tbody tr th {\n",
       "        vertical-align: top;\n",
       "    }\n",
       "\n",
       "    .dataframe thead th {\n",
       "        text-align: right;\n",
       "    }\n",
       "</style>\n",
       "<table border=\"1\" class=\"dataframe\">\n",
       "  <thead>\n",
       "    <tr style=\"text-align: right;\">\n",
       "      <th></th>\n",
       "      <th>longitude</th>\n",
       "      <th>latitude</th>\n",
       "      <th>housing_median_age</th>\n",
       "      <th>total_rooms</th>\n",
       "      <th>total_bedrooms</th>\n",
       "      <th>population</th>\n",
       "      <th>households</th>\n",
       "      <th>median_income</th>\n",
       "      <th>median_house_value</th>\n",
       "      <th>ocean_proximity</th>\n",
       "    </tr>\n",
       "  </thead>\n",
       "  <tbody>\n",
       "    <tr>\n",
       "      <th>0</th>\n",
       "      <td>-122.23</td>\n",
       "      <td>37.88</td>\n",
       "      <td>41.0</td>\n",
       "      <td>880.0</td>\n",
       "      <td>129.0</td>\n",
       "      <td>322.0</td>\n",
       "      <td>126.0</td>\n",
       "      <td>8.3252</td>\n",
       "      <td>452600.0</td>\n",
       "      <td>NEAR BAY</td>\n",
       "    </tr>\n",
       "    <tr>\n",
       "      <th>1</th>\n",
       "      <td>-122.22</td>\n",
       "      <td>37.86</td>\n",
       "      <td>21.0</td>\n",
       "      <td>7099.0</td>\n",
       "      <td>1106.0</td>\n",
       "      <td>2401.0</td>\n",
       "      <td>1138.0</td>\n",
       "      <td>8.3014</td>\n",
       "      <td>358500.0</td>\n",
       "      <td>NEAR BAY</td>\n",
       "    </tr>\n",
       "    <tr>\n",
       "      <th>2</th>\n",
       "      <td>-122.24</td>\n",
       "      <td>37.85</td>\n",
       "      <td>52.0</td>\n",
       "      <td>1467.0</td>\n",
       "      <td>190.0</td>\n",
       "      <td>496.0</td>\n",
       "      <td>177.0</td>\n",
       "      <td>7.2574</td>\n",
       "      <td>352100.0</td>\n",
       "      <td>NEAR BAY</td>\n",
       "    </tr>\n",
       "    <tr>\n",
       "      <th>3</th>\n",
       "      <td>-122.25</td>\n",
       "      <td>37.85</td>\n",
       "      <td>52.0</td>\n",
       "      <td>1274.0</td>\n",
       "      <td>235.0</td>\n",
       "      <td>558.0</td>\n",
       "      <td>219.0</td>\n",
       "      <td>5.6431</td>\n",
       "      <td>341300.0</td>\n",
       "      <td>NEAR BAY</td>\n",
       "    </tr>\n",
       "    <tr>\n",
       "      <th>4</th>\n",
       "      <td>-122.25</td>\n",
       "      <td>37.85</td>\n",
       "      <td>52.0</td>\n",
       "      <td>1627.0</td>\n",
       "      <td>280.0</td>\n",
       "      <td>565.0</td>\n",
       "      <td>259.0</td>\n",
       "      <td>3.8462</td>\n",
       "      <td>342200.0</td>\n",
       "      <td>NEAR BAY</td>\n",
       "    </tr>\n",
       "  </tbody>\n",
       "</table>\n",
       "</div>"
      ],
      "text/plain": [
       "   longitude  latitude  housing_median_age  total_rooms  total_bedrooms  \\\n",
       "0    -122.23     37.88                41.0        880.0           129.0   \n",
       "1    -122.22     37.86                21.0       7099.0          1106.0   \n",
       "2    -122.24     37.85                52.0       1467.0           190.0   \n",
       "3    -122.25     37.85                52.0       1274.0           235.0   \n",
       "4    -122.25     37.85                52.0       1627.0           280.0   \n",
       "\n",
       "   population  households  median_income  median_house_value ocean_proximity  \n",
       "0       322.0       126.0         8.3252            452600.0        NEAR BAY  \n",
       "1      2401.0      1138.0         8.3014            358500.0        NEAR BAY  \n",
       "2       496.0       177.0         7.2574            352100.0        NEAR BAY  \n",
       "3       558.0       219.0         5.6431            341300.0        NEAR BAY  \n",
       "4       565.0       259.0         3.8462            342200.0        NEAR BAY  "
      ]
     },
     "execution_count": 5,
     "metadata": {},
     "output_type": "execute_result"
    }
   ],
   "source": [
    "import pandas as pd\n",
    "data = pd.read_csv('housing/housing.csv')\n",
    "#data = pd.read_csv('/content/gdrive/My Drive/[...]/housing/housing.csv')\n",
    "data.head()"
   ]
  },
  {
   "cell_type": "markdown",
   "metadata": {},
   "source": [
    "Above we can get an overview of the dataset we're working with. Now to extract the test and train data as well as scale it and manipulate it to a suitable shape for our NN."
   ]
  },
  {
   "cell_type": "code",
   "execution_count": 6,
   "metadata": {},
   "outputs": [],
   "source": [
    "from sklearn.impute import SimpleImputer \n",
    "from sklearn import preprocessing\n",
    "from sklearn.model_selection import train_test_split\n",
    "\n",
    "X = data.copy().drop([\"ocean_proximity\"], axis=1)\n",
    "Y = data.copy()[\"ocean_proximity\"]\n",
    "Y = data.copy()[\"ocean_proximity\"].map({\"<1H OCEAN\":0, \"INLAND\":1, \n",
    "                                        \"ISLAND\": 2, \"NEAR BAY\": 3, \n",
    "                                        \"NEAR OCEAN\": 4}).values\n",
    "\n",
    "X_train, X_test, y_train, y_test = train_test_split(X, Y, test_size=0.2, \n",
    "                                                    train_size=0.8, random_state=42)\n",
    "X_train, X_dev, y_train, y_dev = train_test_split(X_train, y_train, \n",
    "                                                  test_size=0.2, train_size=0.8, \n",
    "                                                  random_state=42)\n"
   ]
  },
  {
   "cell_type": "code",
   "execution_count": 7,
   "metadata": {},
   "outputs": [],
   "source": [
    "imputer = SimpleImputer(strategy=\"median\")\n",
    "imputer.fit(X_train)\n",
    "\n",
    "X_train = imputer.transform(X_train)\n",
    "X_dev = imputer.transform(X_dev)\n",
    "X_test = imputer.transform(X_test)\n",
    "\n",
    "scaler = preprocessing.StandardScaler().fit(X_train)\n",
    "\n",
    "X_train = scaler.transform(X_train)\n",
    "X_dev = scaler.transform(X_dev)\n",
    "X_test = scaler.transform(X_test)"
   ]
  },
  {
   "cell_type": "code",
   "execution_count": 8,
   "metadata": {},
   "outputs": [
    {
     "name": "stdout",
     "output_type": "stream",
     "text": [
      "(13209, 9)\n",
      "(3303, 9)\n",
      "(4128, 9)\n",
      "[[-0.69155432  1.10281811 -0.12449485 -0.44361185 -0.60289408 -0.48710064\n",
      "  -0.64120663  0.44340968 -0.25873131]\n",
      " [ 0.8544348  -0.72493883 -1.07770852  1.75575918  1.99734983  1.69902706\n",
      "   2.04218568  0.00321001 -0.28999612]\n",
      " [ 0.86440892 -0.88428174 -0.20392932 -0.15088981 -0.02963101 -0.13535041\n",
      "  -0.16516379 -0.52181236 -0.01729749]]\n"
     ]
    }
   ],
   "source": [
    "print(X_train.shape)\n",
    "print(X_dev.shape)\n",
    "print(X_test.shape)\n",
    "print(X_train[:3])"
   ]
  },
  {
   "cell_type": "markdown",
   "metadata": {},
   "source": [
    "To begin with let's try a simple model with 2 layers (including a hidden layer with 10 neurons) using stochastic gradient descent for optimisation. This will act as a baseline measurement for accuracy which we will use to tune our hyperparameters in development."
   ]
  },
  {
   "cell_type": "code",
   "execution_count": 9,
   "metadata": {
    "id": "ve496Gg8J82q"
   },
   "outputs": [],
   "source": [
    "tf.keras.backend.clear_session\n",
    "\n",
    "ocean_model = tf.keras.Sequential([\n",
    "    tf.keras.layers.Dense(10, input_shape=(9,), activation='relu'),\n",
    "    tf.keras.layers.Dense(5, activation='softmax')\n",
    "])\n",
    "\n",
    "ocean_model.compile(optimizer=tf.keras.optimizers.SGD(learning_rate=1),\n",
    "              loss=tf.keras.losses.SparseCategoricalCrossentropy(from_logits=False),\n",
    "              metrics=['accuracy'])  "
   ]
  },
  {
   "cell_type": "markdown",
   "metadata": {},
   "source": [
    "Below is a procedure to train and evaluate any model passed to it, this will be useful in testing and development later. Using mini-batching let's run this model for *10 epochs* with *batch_size=10* and investigate its accuracy."
   ]
  },
  {
   "cell_type": "code",
   "execution_count": 10,
   "metadata": {},
   "outputs": [
    {
     "name": "stdout",
     "output_type": "stream",
     "text": [
      "Epoch 1/10\n",
      "1321/1321 [==============================] - 2s 963us/step - loss: 0.8219 - accuracy: 0.7147\n",
      "Epoch 2/10\n",
      "1321/1321 [==============================] - 1s 847us/step - loss: 0.7621 - accuracy: 0.7302\n",
      "Epoch 3/10\n",
      "1321/1321 [==============================] - 1s 1ms/step - loss: 0.8349 - accuracy: 0.7340\n",
      "Epoch 4/10\n",
      "1321/1321 [==============================] - 1s 1ms/step - loss: 0.7242 - accuracy: 0.7320\n",
      "Epoch 5/10\n",
      "1321/1321 [==============================] - 1s 939us/step - loss: 0.8087 - accuracy: 0.7291\n",
      "Epoch 6/10\n",
      "1321/1321 [==============================] - 1s 1ms/step - loss: 0.8118 - accuracy: 0.7287\n",
      "Epoch 7/10\n",
      "1321/1321 [==============================] - 1s 953us/step - loss: 0.7645 - accuracy: 0.7295\n",
      "Epoch 8/10\n",
      "1321/1321 [==============================] - 1s 843us/step - loss: 0.8290 - accuracy: 0.7287\n",
      "Epoch 9/10\n",
      "1321/1321 [==============================] - 1s 929us/step - loss: 0.7844 - accuracy: 0.7170\n",
      "Epoch 10/10\n",
      "1321/1321 [==============================] - 1s 944us/step - loss: 0.8604 - accuracy: 0.6929\n",
      "104/104 [==============================] - 0s 925us/step - loss: 0.8235 - accuracy: 0.6957\n",
      "final loss: 0.8234792351722717 \n",
      "final accuracy 0.6957311630249023\n"
     ]
    }
   ],
   "source": [
    "def train_evaluate_model(model, bs=25, eps=25, vb=False):\n",
    "    model.fit(X_train, y_train, batch_size=bs, epochs=eps, verbose=vb)\n",
    "    dev_loss, dev_accuracy = model.evaluate(X_dev, y_dev)\n",
    "    print(f\"final loss: {dev_loss} \\nfinal accuracy {dev_accuracy}\")\n",
    "    \n",
    "train_evaluate_model(ocean_model, 10, 10, True)"
   ]
  },
  {
   "cell_type": "markdown",
   "metadata": {},
   "source": [
    "We can see here a relatively okay accuracy of **~0.70** and a rather poor loss of **~0.82** Both of these performance measures can certainly be improved upon with tweaks to the hyperparameters of the model. Firstly let's see what happens when we change *batch_size* and *epochs* both to 25."
   ]
  },
  {
   "cell_type": "code",
   "execution_count": 11,
   "metadata": {},
   "outputs": [
    {
     "name": "stdout",
     "output_type": "stream",
     "text": [
      "104/104 [==============================] - 0s 836us/step - loss: 0.6204 - accuracy: 0.7802\n",
      "final loss: 0.62040114402771 \n",
      "final accuracy 0.7801998257637024\n"
     ]
    }
   ],
   "source": [
    "train_evaluate_model(ocean_model, 25, 25)"
   ]
  },
  {
   "cell_type": "markdown",
   "metadata": {},
   "source": [
    "Evidently a significant improvement to loss which is now **~0.62** and a marked increase in accuracy to **~0.78**. Having noted this performance increase due to changing batch and epoch size, let's investigate the effects of changing the number of neurons in the hidden layer from 10 to 20."
   ]
  },
  {
   "cell_type": "code",
   "execution_count": 12,
   "metadata": {},
   "outputs": [
    {
     "name": "stdout",
     "output_type": "stream",
     "text": [
      "104/104 [==============================] - 0s 757us/step - loss: 0.4138 - accuracy: 0.8320\n",
      "final loss: 0.4137909412384033 \n",
      "final accuracy 0.8319709300994873\n"
     ]
    }
   ],
   "source": [
    "tf.keras.backend.clear_session\n",
    "\n",
    "#20 neurons this time around\n",
    "ocean_model = tf.keras.Sequential([\n",
    "    tf.keras.layers.Dense(20, input_shape=(9,), activation='relu'),\n",
    "    tf.keras.layers.Dense(5, activation='softmax')\n",
    "])\n",
    "\n",
    "ocean_model.compile(optimizer=tf.keras.optimizers.SGD(learning_rate=1),\n",
    "              loss=tf.keras.losses.SparseCategoricalCrossentropy(from_logits=False),\n",
    "              metrics=['accuracy'])  \n",
    "\n",
    "train_evaluate_model(ocean_model)"
   ]
  },
  {
   "cell_type": "markdown",
   "metadata": {},
   "source": [
    "Increasing the number of neurons in the hidden layer from 10 to 20 has clearly made a significant difference to both accuracy and loss with strong improvements observed in both (we now see **~0.41** loss and **~0.83** accuracy). Having tuned the number of neurons and the mini-batch parameters for the training of the model, let's change the optimization of the network and see if any improvement is observed. Here we will be using *Adam* optimization with the following hyperparameters:\n",
    "- $Learning Rate = 0.001$\n",
    "- $\\beta_{1} = 0.9$\n",
    "- $\\beta_{2} = 0.999$\n",
    "- $\\epsilon = 10^{-7}$"
   ]
  },
  {
   "cell_type": "code",
   "execution_count": 13,
   "metadata": {},
   "outputs": [
    {
     "name": "stdout",
     "output_type": "stream",
     "text": [
      "104/104 [==============================] - 0s 736us/step - loss: 0.3023 - accuracy: 0.8738\n",
      "final loss: 0.3022878170013428 \n",
      "final accuracy 0.873751163482666\n"
     ]
    }
   ],
   "source": [
    "tf.keras.backend.clear_session\n",
    "\n",
    "ocean_model = tf.keras.Sequential([\n",
    "    tf.keras.layers.Dense(20, input_shape=(9,), activation='relu'),\n",
    "    tf.keras.layers.Dense(5, activation='softmax')\n",
    "])\n",
    "\n",
    "ocean_model.compile(optimizer=tf.keras.optimizers.Adam(\n",
    "    learning_rate=0.001, beta_1=0.9, beta_2=0.999, epsilon=1e-07),\n",
    "    loss=tf.keras.losses.SparseCategoricalCrossentropy(from_logits=False),\n",
    "    metrics=['accuracy'])  \n",
    "\n",
    "train_evaluate_model(ocean_model)"
   ]
  },
  {
   "cell_type": "markdown",
   "metadata": {},
   "source": [
    "We note here a slight improvement in accuracy (**~0.88**) over the stochastic gradient descent optimizer and a marked improvement in loss (**~0.30**). Let's now try using the RMSprop optimizer to see if we can note any performance increase."
   ]
  },
  {
   "cell_type": "code",
   "execution_count": 14,
   "metadata": {},
   "outputs": [
    {
     "name": "stdout",
     "output_type": "stream",
     "text": [
      "104/104 [==============================] - 0s 807us/step - loss: 0.3245 - accuracy: 0.8731\n",
      "final loss: 0.32454806566238403 \n",
      "final accuracy 0.8731456398963928\n"
     ]
    }
   ],
   "source": [
    "tf.keras.backend.clear_session\n",
    "\n",
    "ocean_model = tf.keras.Sequential([\n",
    "    tf.keras.layers.Dense(20, input_shape=(9,), activation='relu'),\n",
    "    tf.keras.layers.Dense(5, activation='softmax')\n",
    "])\n",
    "\n",
    "ocean_model.compile(optimizer=tf.keras.optimizers.RMSprop(), \n",
    "                    loss=tf.keras.losses.SparseCategoricalCrossentropy(from_logits=False), \n",
    "                    metrics=['accuracy'])\n",
    "\n",
    "train_evaluate_model(ocean_model)"
   ]
  },
  {
   "cell_type": "markdown",
   "metadata": {},
   "source": [
    "While accuracy and loss are both quite good using RMSprop it is still outperformed by Adam optimization and as such we're going to remain using Adam. Let's try tweaking the *learning_rate* hyperparameter of the Adam optimizer to 0.0015 and see if we observe any performance boosts. "
   ]
  },
  {
   "cell_type": "code",
   "execution_count": 15,
   "metadata": {},
   "outputs": [
    {
     "name": "stdout",
     "output_type": "stream",
     "text": [
      "104/104 [==============================] - 0s 761us/step - loss: 0.2767 - accuracy: 0.8871\n",
      "final loss: 0.2766778767108917 \n",
      "final accuracy 0.8870723843574524\n"
     ]
    }
   ],
   "source": [
    "tf.keras.backend.clear_session\n",
    "\n",
    "ocean_model = tf.keras.Sequential([\n",
    "    tf.keras.layers.Dense(20, input_shape=(9,), activation='relu'),\n",
    "    tf.keras.layers.Dense(5, activation='softmax')\n",
    "])\n",
    "\n",
    "ocean_model.compile(optimizer=tf.keras.optimizers.Adam(\n",
    "    learning_rate=0.0015, beta_1=0.9, beta_2=0.999, epsilon=1e-07),\n",
    "    loss=tf.keras.losses.SparseCategoricalCrossentropy(from_logits=False),\n",
    "    metrics=['accuracy'])  \n",
    "\n",
    "train_evaluate_model(ocean_model)"
   ]
  },
  {
   "cell_type": "markdown",
   "metadata": {},
   "source": [
    "Here we can see a minimal increase in accuracy (to **~0.89**) and a slight decrease in loss (to **~0.28**). We will thus keep the learning rate at 0.0015 in order to utilise these slight increases in performance. Having tuned and tested a sequantial neural network, let's see how a neural net with a regressive loss function performs on the same task."
   ]
  },
  {
   "cell_type": "code",
   "execution_count": 16,
   "metadata": {},
   "outputs": [
    {
     "name": "stdout",
     "output_type": "stream",
     "text": [
      "104/104 [==============================] - 0s 688us/step - loss: 1.4171\n",
      "mean absolute error: 1.4171210527420044\n"
     ]
    }
   ],
   "source": [
    "reg_model = tf.keras.models.Sequential([\n",
    "    tf.keras.layers.Dense(20, activation=\"relu\", input_shape=(9,)),\n",
    "    tf.keras.layers.Dense(1)\n",
    "])\n",
    "\n",
    "reg_model.compile(loss=\"mean_squared_error\", \n",
    "                  optimizer=tf.keras.optimizers.SGD(learning_rate=1e-3))\n",
    "\n",
    "reg_model.fit(X_train, y_train, 25, 25, False)\n",
    "mse = reg_model.evaluate(X_dev, y_dev)\n",
    "print(f\"mean absolute error: {mse}\")"
   ]
  },
  {
   "cell_type": "markdown",
   "metadata": {},
   "source": [
    "The performance of the regression model is not fantastic with an MSE value of **~1.47** meaning there are certainly improvement to be made to the model. We will not tune this further as our other model currently outperfoms the regression model at this point in time. Let's now evaluate our tuned model on the test set and observe the results."
   ]
  },
  {
   "cell_type": "code",
   "execution_count": 17,
   "metadata": {},
   "outputs": [
    {
     "name": "stdout",
     "output_type": "stream",
     "text": [
      "129/129 [==============================] - 0s 1ms/step - loss: 0.2967 - accuracy: 0.8757\n",
      "final loss: 0.2966945469379425 \n",
      "final accuracy 0.8757267594337463\n"
     ]
    }
   ],
   "source": [
    "tf.keras.backend.clear_session\n",
    "\n",
    "ocean_model = tf.keras.Sequential([\n",
    "    tf.keras.layers.Dense(20, input_shape=(9,), activation='relu'),\n",
    "    tf.keras.layers.Dense(5, activation='softmax')\n",
    "])\n",
    "\n",
    "ocean_model.compile(optimizer=tf.keras.optimizers.Adam(\n",
    "    learning_rate=0.0015, beta_1=0.9, beta_2=0.999, epsilon=1e-07),\n",
    "    loss=tf.keras.losses.SparseCategoricalCrossentropy(from_logits=False),\n",
    "    metrics=['accuracy'])  \n",
    "\n",
    "history = ocean_model.fit(X_train, y_train, batch_size=25, epochs=25,\n",
    "                    validation_data=(X_test, y_test), verbose=False)\n",
    "\n",
    "final_loss, final_acc = ocean_model.evaluate(X_test, y_test)\n",
    "print(f\"final loss: {final_loss} \\nfinal accuracy {final_acc}\")"
   ]
  },
  {
   "cell_type": "markdown",
   "metadata": {},
   "source": [
    "As can be observed above our final tuned model has a high accuracy (**~0.88**) and a low loss (**~0.28**) on the test set using 2 layers and Adam optimization, trained with a mini-batch size of 25 over 25 epochs. Further tuning of hyperparameters will likely lead to a further increase in performance. Let's now graph the results of the evaluation."
   ]
  },
  {
   "cell_type": "code",
   "execution_count": 18,
   "metadata": {},
   "outputs": [
    {
     "data": {
      "image/png": "[encoded data removed]",
      "text/plain": [
       "<Figure size 576x360 with 1 Axes>"
      ]
     },
     "metadata": {
      "needs_background": "light"
     },
     "output_type": "display_data"
    }
   ],
   "source": [
    "import pandas as pd\n",
    "\n",
    "pd.DataFrame(history.history).plot(figsize=(8, 5))\n",
    "plt.grid(True)\n",
    "plt.gca().set_ylim(0, 1)\n",
    "plt.show()"
   ]
  },
  {
   "cell_type": "markdown",
   "metadata": {},
   "source": [
    "A sharp improvement can be seen in the first 10 epochs which slowly levels out over epochs 10 to 25. This suggests that a higher number of epochs would net negligable performance improvements. The model has now had its hyperparameters tuned. Below is a summary of the final model."
   ]
  },
  {
   "cell_type": "code",
   "execution_count": 19,
   "metadata": {},
   "outputs": [
    {
     "name": "stdout",
     "output_type": "stream",
     "text": [
      "Model: \"sequential_6\"\n",
      "_________________________________________________________________\n",
      " Layer (type)                Output Shape              Param #   \n",
      "=================================================================\n",
      " dense_12 (Dense)            (None, 20)                200       \n",
      "                                                                 \n",
      " dense_13 (Dense)            (None, 5)                 105       \n",
      "                                                                 \n",
      "=================================================================\n",
      "Total params: 305\n",
      "Trainable params: 305\n",
      "Non-trainable params: 0\n",
      "_________________________________________________________________\n"
     ]
    }
   ],
   "source": [
    "ocean_model.summary()"
   ]
  },
  {
   "cell_type": "code",
   "execution_count": null,
   "metadata": {},
   "outputs": [],
   "source": []
  },
  {
   "cell_type": "code",
   "execution_count": null,
   "metadata": {},
   "outputs": [],
   "source": []
  }
 ],
 "metadata": {
  "colab": {
   "collapsed_sections": [],
   "name": "DSPNP_practical4-TFv2.ipynb",
   "provenance": []
  },
  "kernelspec": {
   "display_name": "Python 3",
   "language": "python",
   "name": "python3"
  },
  "language_info": {
   "codemirror_mode": {
    "name": "ipython",
    "version": 3
   },
   "file_extension": ".py",
   "mimetype": "text/x-python",
   "name": "python",
   "nbconvert_exporter": "python",
   "pygments_lexer": "ipython3",
   "version": "3.8.3"
  }
 },
 "nbformat": 4,
 "nbformat_minor": 4
}
